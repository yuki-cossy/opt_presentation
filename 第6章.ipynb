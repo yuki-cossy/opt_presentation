{
 "cells": [
  {
   "attachments": {},
   "cell_type": "markdown",
   "id": "d438319d",
   "metadata": {
    "slideshow": {
     "slide_type": "slide"
    }
   },
   "source": [
    "# 自己紹介\n",
    "\n",
    "<table style=\"width:image width px; font-size:100%; text-align:left;\">\n",
    "    <tr>\n",
    "        <td><img src=\"img/自己紹介.JPG\" width=\"500\"></td>\n",
    "        <td>&nbsp;</td>\n",
    "        <td>【名前】 こっしー <br>\n",
    "    【職業】 新卒機械学習エンジニア/データサイエンティスト <br>\n",
    "    【興味関心】 NLP(文書要約、平易化)、因果推論、ベイズ機械学習 <br>\n",
    "    【趣味】 ミュージカル、街歩き</td>\n",
    "    </tr>\n",
    "</table>"
   ]
  },
  {
   "cell_type": "markdown",
   "id": "9c5765ee",
   "metadata": {
    "slideshow": {
     "slide_type": "slide"
    }
   },
   "source": [
    "**第6章**"
   ]
  },
  {
   "cell_type": "markdown",
   "id": "da2cf3b2",
   "metadata": {
    "slideshow": {
     "slide_type": "fragment"
    }
   },
   "source": [
    "- 導入\n",
    "    - API とは？\n",
    "    - Web アプリケーションとは？\n",
    "    - API、Web application はいつ使うと嬉しいのか\n",
    "    - 本章で扱う問題紹介\n",
    "- 数理モデリングと実装\n",
    "- 最適化 API を作る\n",
    "- Web アプリケーションを作る"
   ]
  },
  {
   "cell_type": "markdown",
   "id": "87f55a4d",
   "metadata": {
    "slideshow": {
     "slide_type": "notes"
    }
   },
   "source": [
    "こういう勉強会に不慣れなので、基本的に自分の勉強の記録を公開するという形式.  \n",
    "Web アプリケーションは時間が足りないと思うので、端折ってある。  \n",
    "仕事の方が忙しく、4 章の一部と 5 章の発表を全然聞けなかったのが残念です.   "
   ]
  },
  {
   "cell_type": "markdown",
   "id": "aefd4427",
   "metadata": {
    "slideshow": {
     "slide_type": "slide"
    }
   },
   "source": [
    "# 導入"
   ]
  },
  {
   "attachments": {},
   "cell_type": "markdown",
   "id": "1d703953",
   "metadata": {
    "slideshow": {
     "slide_type": "subslide"
    }
   },
   "source": [
    "## API とは？\n",
    "<div style=\"width:image width px; font-size:100%; text-align:center;\"><img src='img/API.png' alt=\"alternate text\" width=\"width\" height=\"height\" style=\"width:1300px;height:400px;\" /> API 説明図 </div>"
   ]
  },
  {
   "cell_type": "markdown",
   "id": "d5e5f355",
   "metadata": {
    "slideshow": {
     "slide_type": "notes"
    }
   },
   "source": [
    "API: Application Programming Interface. 本文ママ「汎用性の高い機能を、誰でも手軽に利用できる様に提供される便利なしくみ」  \n",
    "リクエストとレスポンスのこの仕組みが API."
   ]
  },
  {
   "attachments": {},
   "cell_type": "markdown",
   "id": "7bbc8542",
   "metadata": {
    "slideshow": {
     "slide_type": "subslide"
    }
   },
   "source": [
    "## Web Application とは\n",
    "<div style=\"width:image width px; font-size:100%; text-align:center;\"><img src='img/WebApplication.png' alt=\"alternate text\" width=\"width\" height=\"height\" style=\"width:1300px;height:400px;\" /> Web Application 説明図 </div>"
   ]
  },
  {
   "cell_type": "markdown",
   "id": "c28e6b40",
   "metadata": {
    "slideshow": {
     "slide_type": "notes"
    }
   },
   "source": [
    "リクエストとレスポンスという構造自体はAPI と似ているが、Web 上でボタンを押したり、ファイルをアップロードしたりを Web ブラウザ上で行うという点が異なる。  \n",
    "\n",
    "一般に、インターネットなどのネットワークを経由して利用するアプリケーションソフトウェア。\n",
    "web サーバー上で動く.  \n",
    "\n",
    "今回のように、API を用いて Web application を動かしたい場合は、  \n",
    "例えばファイル/データをアップロードして、それを何とかしてくれというリクエストを送り、レスポンスとして分析結果が返ってきて、それをリクエスト送信者のweb上で表示するとする。  \n",
    "~~upload data, display=web application. uploaded data into request, response=API という認識。~~"
   ]
  },
  {
   "cell_type": "markdown",
   "id": "109f2a08",
   "metadata": {
    "slideshow": {
     "slide_type": "subslide"
    }
   },
   "source": [
    "## なぜ API と Web application を学ぶのか\n",
    "- ビジネス観点のメリット\n",
    "    - 短期間で PoC を自力推進できる\n",
    "    - プロマネ / 顧客 / 上司にイメージを持ってもらいやすい\n",
    "- プロダクト観点のメリット\n",
    "    - エンジニアとのコミュニケーションが円滑に\n",
    "    - プロダクトを俯瞰できる"
   ]
  },
  {
   "cell_type": "markdown",
   "id": "f679868d",
   "metadata": {
    "slideshow": {
     "slide_type": "notes"
    }
   },
   "source": [
    "PoC = Proof of Cpncept. 実際に機能として思い浮かべた概念を実装できるのか確かめる行為.  \n",
    "Product. merit.: エンジニアとのcommunication = 作業が効率化。何を決める必要があるかエンジニアにイメージを持ってもらいやすい.  \n",
    "プロダクトを俯瞰: プロダクト側から見て嬉しい実装方法などが分かる。問題の早期発見につながる.  "
   ]
  },
  {
   "cell_type": "markdown",
   "id": "51adc83b",
   "metadata": {
    "slideshow": {
     "slide_type": "subslide"
    }
   },
   "source": [
    "Web application 実装に、今回は Flask というフレームワークを使う。  \n",
    "他にも色々フレームワークはある。最近だと、streamlit を個人的に良く聞く気がします。  \n",
    "今回は恐らく時間が足りないので、streamlit は触れません。  \n",
    "--> 金曜日発表の方の資料がめちゃくちゃ面白いので見てみると良いかと思います！  "
   ]
  },
  {
   "cell_type": "markdown",
   "id": "81e89379",
   "metadata": {
    "slideshow": {
     "slide_type": "subslide"
    }
   },
   "source": [
    "## API、Web Application があると嬉しいケース\n",
    "\n",
    "営業「どの順番で営業訪問すればいいか教えて。費用は最小限で。」  \n",
    "わたし「訪問先リストくれたら算出するよ」  "
   ]
  },
  {
   "cell_type": "markdown",
   "id": "826c6544",
   "metadata": {
    "slideshow": {
     "slide_type": "fragment"
    }
   },
   "source": [
    "翌日  \n",
    "営業「訪問先リスト変わった」  \n",
    "わたし「もう一回算出するわ」  "
   ]
  },
  {
   "cell_type": "markdown",
   "id": "6368e2d7",
   "metadata": {
    "slideshow": {
     "slide_type": "subslide"
    }
   },
   "source": [
    "数日後  \n",
    "営業「訪問先リスト変わった」  \n",
    "営業「他の営業の分も最適化して」  \n",
    "わたし「過労死」  "
   ]
  },
  {
   "cell_type": "markdown",
   "id": "e1d10a6e",
   "metadata": {
    "slideshow": {
     "slide_type": "subslide"
    }
   },
   "source": [
    "-> Web application があれば、営業に自分でルート算出してもらえた。  \n",
    "Web application って役に立ちそう"
   ]
  },
  {
   "cell_type": "markdown",
   "id": "871d483e",
   "metadata": {
    "slideshow": {
     "slide_type": "subslide"
    }
   },
   "source": [
    "## 本章で扱う問題 \n",
    "あなたは大学生。サークルのメンバーで、車を使った旅行をする。誰をどの車に乗せるべき？"
   ]
  },
  {
   "cell_type": "markdown",
   "id": "25d1ef10",
   "metadata": {
    "slideshow": {
     "slide_type": "notes"
    }
   },
   "source": [
    "ここからは実際に web アプリケーションを作って行きたい。"
   ]
  },
  {
   "cell_type": "markdown",
   "id": "7b18ece2",
   "metadata": {
    "slideshow": {
     "slide_type": "slide"
    }
   },
   "source": [
    "# 数理モデリングと実装"
   ]
  },
  {
   "cell_type": "markdown",
   "id": "e3158eac",
   "metadata": {
    "slideshow": {
     "slide_type": "fragment"
    }
   },
   "source": [
    "数理最適化問題にすると、**0-1整数計画問題**\n",
    "\n",
    "- 概要：学生のグループ分け問題\n",
    "    - 要件(1) 学生をどの車に割り当てるかを決定する\n",
    "- 法規制による制約\n",
    "    - 要件(2) 乗車人数は定員を超えてはいけない\n",
    "    - 要件(3) 運転免許証を持つ学生を 1 人以上車に割り当てる"
   ]
  },
  {
   "cell_type": "markdown",
   "id": "7161e295",
   "metadata": {
    "slideshow": {
     "slide_type": "notes"
    }
   },
   "source": [
    "0-1 整数計画 = 学生と車 id の組という変数 ->  0/1 "
   ]
  },
  {
   "cell_type": "markdown",
   "id": "9744138c",
   "metadata": {
    "slideshow": {
     "slide_type": "subslide"
    }
   },
   "source": [
    "- 親睦を深める制約\n",
    "    - 要件(4) 各学年の学生を 1 人以上車に割り当てる\n",
    "- ジェンダーバランスによる制約\n",
    "    - 要件(5) 男女それぞれ 1 人以上を車に割り当てる"
   ]
  },
  {
   "cell_type": "markdown",
   "id": "edc56321",
   "metadata": {
    "slideshow": {
     "slide_type": "subslide"
    }
   },
   "source": [
    "## データを概観したい"
   ]
  },
  {
   "cell_type": "code",
   "execution_count": 1,
   "id": "098ff1eb",
   "metadata": {
    "ExecuteTime": {
     "end_time": "2023-01-13T08:19:35.499435Z",
     "start_time": "2023-01-13T08:19:33.987714Z"
    },
    "slideshow": {
     "slide_type": "fragment"
    }
   },
   "outputs": [
    {
     "name": "stdout",
     "output_type": "stream",
     "text": [
      "(24, 4)\n"
     ]
    }
   ],
   "source": [
    "import pandas as pd\n",
    "\n",
    "students_df = pd.read_csv('../PyOptBook-main/6.api/resource/students.csv')\n",
    "print(students_df.shape)"
   ]
  },
  {
   "cell_type": "code",
   "execution_count": 2,
   "id": "5b385ae5",
   "metadata": {
    "ExecuteTime": {
     "end_time": "2023-01-13T08:19:35.571451Z",
     "start_time": "2023-01-13T08:19:35.513818Z"
    },
    "slideshow": {
     "slide_type": "subslide"
    }
   },
   "outputs": [
    {
     "data": {
      "text/html": [
       "<div>\n",
       "<style scoped>\n",
       "    .dataframe tbody tr th:only-of-type {\n",
       "        vertical-align: middle;\n",
       "    }\n",
       "\n",
       "    .dataframe tbody tr th {\n",
       "        vertical-align: top;\n",
       "    }\n",
       "\n",
       "    .dataframe thead th {\n",
       "        text-align: right;\n",
       "    }\n",
       "</style>\n",
       "<table border=\"1\" class=\"dataframe\">\n",
       "  <thead>\n",
       "    <tr style=\"text-align: right;\">\n",
       "      <th></th>\n",
       "      <th>student_id</th>\n",
       "      <th>license</th>\n",
       "      <th>gender</th>\n",
       "      <th>grade</th>\n",
       "    </tr>\n",
       "  </thead>\n",
       "  <tbody>\n",
       "    <tr>\n",
       "      <th>0</th>\n",
       "      <td>0</td>\n",
       "      <td>0</td>\n",
       "      <td>0</td>\n",
       "      <td>1</td>\n",
       "    </tr>\n",
       "    <tr>\n",
       "      <th>1</th>\n",
       "      <td>1</td>\n",
       "      <td>1</td>\n",
       "      <td>1</td>\n",
       "      <td>2</td>\n",
       "    </tr>\n",
       "    <tr>\n",
       "      <th>2</th>\n",
       "      <td>2</td>\n",
       "      <td>1</td>\n",
       "      <td>0</td>\n",
       "      <td>3</td>\n",
       "    </tr>\n",
       "    <tr>\n",
       "      <th>3</th>\n",
       "      <td>3</td>\n",
       "      <td>1</td>\n",
       "      <td>1</td>\n",
       "      <td>4</td>\n",
       "    </tr>\n",
       "    <tr>\n",
       "      <th>4</th>\n",
       "      <td>4</td>\n",
       "      <td>0</td>\n",
       "      <td>1</td>\n",
       "      <td>1</td>\n",
       "    </tr>\n",
       "  </tbody>\n",
       "</table>\n",
       "</div>"
      ],
      "text/plain": [
       "   student_id  license  gender  grade\n",
       "0           0        0       0      1\n",
       "1           1        1       1      2\n",
       "2           2        1       0      3\n",
       "3           3        1       1      4\n",
       "4           4        0       1      1"
      ]
     },
     "execution_count": 2,
     "metadata": {},
     "output_type": "execute_result"
    }
   ],
   "source": [
    "students_df.head(5)"
   ]
  },
  {
   "cell_type": "code",
   "execution_count": 3,
   "id": "d4525a3e",
   "metadata": {
    "ExecuteTime": {
     "end_time": "2023-01-13T08:19:35.606801Z",
     "start_time": "2023-01-13T08:19:35.578868Z"
    },
    "slideshow": {
     "slide_type": "subslide"
    }
   },
   "outputs": [
    {
     "name": "stdout",
     "output_type": "stream",
     "text": [
      "<class 'pandas.core.frame.DataFrame'>\n",
      "RangeIndex: 24 entries, 0 to 23\n",
      "Data columns (total 4 columns):\n",
      " #   Column      Non-Null Count  Dtype\n",
      "---  ------      --------------  -----\n",
      " 0   student_id  24 non-null     int64\n",
      " 1   license     24 non-null     int64\n",
      " 2   gender      24 non-null     int64\n",
      " 3   grade       24 non-null     int64\n",
      "dtypes: int64(4)\n",
      "memory usage: 896.0 bytes\n"
     ]
    }
   ],
   "source": [
    "students_df.info()"
   ]
  },
  {
   "cell_type": "code",
   "execution_count": 4,
   "id": "d1b99328",
   "metadata": {
    "ExecuteTime": {
     "end_time": "2023-01-13T08:19:35.619813Z",
     "start_time": "2023-01-13T08:19:35.611201Z"
    },
    "slideshow": {
     "slide_type": "subslide"
    }
   },
   "outputs": [
    {
     "name": "stdout",
     "output_type": "stream",
     "text": [
      "(6, 2)\n"
     ]
    }
   ],
   "source": [
    "cars_df = pd.read_csv('../PyOptBook-main/6.api/resource/cars.csv')\n",
    "print(cars_df.shape)"
   ]
  },
  {
   "cell_type": "code",
   "execution_count": 5,
   "id": "0d0a9cd1",
   "metadata": {
    "ExecuteTime": {
     "end_time": "2023-01-13T08:19:35.632805Z",
     "start_time": "2023-01-13T08:19:35.622265Z"
    },
    "slideshow": {
     "slide_type": "subslide"
    }
   },
   "outputs": [
    {
     "data": {
      "text/html": [
       "<div>\n",
       "<style scoped>\n",
       "    .dataframe tbody tr th:only-of-type {\n",
       "        vertical-align: middle;\n",
       "    }\n",
       "\n",
       "    .dataframe tbody tr th {\n",
       "        vertical-align: top;\n",
       "    }\n",
       "\n",
       "    .dataframe thead th {\n",
       "        text-align: right;\n",
       "    }\n",
       "</style>\n",
       "<table border=\"1\" class=\"dataframe\">\n",
       "  <thead>\n",
       "    <tr style=\"text-align: right;\">\n",
       "      <th></th>\n",
       "      <th>car_id</th>\n",
       "      <th>capacity</th>\n",
       "    </tr>\n",
       "  </thead>\n",
       "  <tbody>\n",
       "    <tr>\n",
       "      <th>0</th>\n",
       "      <td>0</td>\n",
       "      <td>6</td>\n",
       "    </tr>\n",
       "    <tr>\n",
       "      <th>1</th>\n",
       "      <td>1</td>\n",
       "      <td>6</td>\n",
       "    </tr>\n",
       "    <tr>\n",
       "      <th>2</th>\n",
       "      <td>2</td>\n",
       "      <td>5</td>\n",
       "    </tr>\n",
       "    <tr>\n",
       "      <th>3</th>\n",
       "      <td>3</td>\n",
       "      <td>4</td>\n",
       "    </tr>\n",
       "    <tr>\n",
       "      <th>4</th>\n",
       "      <td>4</td>\n",
       "      <td>5</td>\n",
       "    </tr>\n",
       "    <tr>\n",
       "      <th>5</th>\n",
       "      <td>5</td>\n",
       "      <td>5</td>\n",
       "    </tr>\n",
       "  </tbody>\n",
       "</table>\n",
       "</div>"
      ],
      "text/plain": [
       "   car_id  capacity\n",
       "0       0         6\n",
       "1       1         6\n",
       "2       2         5\n",
       "3       3         4\n",
       "4       4         5\n",
       "5       5         5"
      ]
     },
     "metadata": {},
     "output_type": "display_data"
    }
   ],
   "source": [
    "display(cars_df)"
   ]
  },
  {
   "cell_type": "markdown",
   "id": "63fd5c54",
   "metadata": {
    "slideshow": {
     "slide_type": "subslide"
    }
   },
   "source": [
    "## 数理モデリング"
   ]
  },
  {
   "cell_type": "markdown",
   "id": "02948aeb",
   "metadata": {
    "slideshow": {
     "slide_type": "subslide"
    }
   },
   "source": [
    "- リスト\n",
    "    - $S$: 学生のリスト\n",
    "    - $C$: 車のリスト\n",
    "    - $G$: 学年のリスト\n",
    "    - $S_{license}$: 免許を持っている学生のリスト\n",
    "    - $S_g  (g\\in{G})$: 学年が $g$ の学生のリスト\n",
    "    - $S_{male}$: 男性のリスト\n",
    "    - $S_{female}$: 女性のリスト"
   ]
  },
  {
   "cell_type": "markdown",
   "id": "305e683f",
   "metadata": {
    "slideshow": {
     "slide_type": "subslide"
    }
   },
   "source": [
    "- 変数: 学生 $s$ を車 $c$ に割り当てる場合に 1、そうでない場合に 0 をとる変数 \n",
    "    - $x_{sc}\\in\\{0,1\\}$\n",
    "    \n",
    "- 定数\n",
    "    - $U_c$ ($c\\in{C}$): 車 $c$ の乗車定員"
   ]
  },
  {
   "cell_type": "markdown",
   "id": "6486a8fd",
   "metadata": {
    "slideshow": {
     "slide_type": "subslide"
    }
   },
   "source": [
    "- 制約条件\n",
    "    - 制約 (1) 各学生を 1 つの車に割り当てる\n",
    "        - $\\sum_{c\\in{C}}x_{sc} = 1 \\quad (s\\in S)$\n",
    "    - 制約 (2) 各車には乗車定員より多く乗ることができない\n",
    "        - $\\sum_{s\\in S}x_{sc}\\leq U_c \\quad (c\\in C)$\n",
    "    - 制約 (3) 各車にドライバーを 1 人以上割り当てる\n",
    "        - $\\sum_{s\\in {S_{license}}}x_{sc}\\geq 1 \\quad (c\\in C)$"
   ]
  },
  {
   "cell_type": "markdown",
   "id": "8d96b20f",
   "metadata": {
    "slideshow": {
     "slide_type": "subslide"
    }
   },
   "source": [
    "- 制約条件\n",
    "    - 制約 (4) 各車に各学年の学生を 1 人以上割り当てる\n",
    "        - $\\sum_{s\\in {S_g}}x_{sc}\\geq 1 \\quad (g \\in{G}, c\\in{C})$\n",
    "    - 制約 (5) 各車に男性を 1 人以上割り当てる\n",
    "        - $\\sum_{s\\in {S_{male}}}x_{sc}\\geq 1 \\quad (c\\in{C})$\n",
    "    - 制約 (6) 各車に女性を 1 人以上割り当てる\n",
    "        - $\\sum_{s\\in {S_{female}}}x_{sc}\\geq 1 \\quad (c\\in{C})$\n",
    "- 目的関数\n",
    "    - なし"
   ]
  },
  {
   "cell_type": "markdown",
   "id": "6c2a21cc",
   "metadata": {
    "slideshow": {
     "slide_type": "subslide"
    }
   },
   "source": [
    "## 数理モデルの実装"
   ]
  },
  {
   "cell_type": "code",
   "execution_count": 25,
   "id": "63fe9c6f",
   "metadata": {
    "ExecuteTime": {
     "end_time": "2023-01-17T08:25:35.786432Z",
     "start_time": "2023-01-17T08:25:35.660481Z"
    },
    "slideshow": {
     "slide_type": "fragment"
    }
   },
   "outputs": [],
   "source": [
    "import pandas as pd\n",
    "import pulp\n",
    "\n",
    "students_df = pd.read_csv('../PyOptBook-main/6.api/resource/students.csv')\n",
    "cars_df = pd.read_csv('../PyOptBook-main/6.api/resource/cars.csv')"
   ]
  },
  {
   "cell_type": "code",
   "execution_count": 26,
   "id": "848cc20f",
   "metadata": {
    "ExecuteTime": {
     "end_time": "2023-01-17T08:25:36.497400Z",
     "start_time": "2023-01-17T08:25:36.487717Z"
    },
    "slideshow": {
     "slide_type": "subslide"
    }
   },
   "outputs": [],
   "source": [
    "# 学生の乗車グループ分け問題 (0-1 整数計画問題) のインスタンス作成\n",
    "prob = pulp.LpProblem('ClubCarProblem', pulp.LpMaximize)"
   ]
  },
  {
   "cell_type": "code",
   "execution_count": 27,
   "id": "8cf95896",
   "metadata": {
    "ExecuteTime": {
     "end_time": "2023-01-17T08:25:39.097647Z",
     "start_time": "2023-01-17T08:25:39.082150Z"
    },
    "slideshow": {
     "slide_type": "subslide"
    }
   },
   "outputs": [],
   "source": [
    "# リスト\n",
    "## 学生のリスト\n",
    "S = students_df['student_id'].to_list()\n",
    "## 車のリスト\n",
    "C = cars_df['car_id'].to_list()\n",
    "## 学年のリスト\n",
    "G = [1, 2, 3, 4]\n",
    "## 学生と車のペアのリスト\n",
    "SC = [(s,c) for s in S for c in C]"
   ]
  },
  {
   "cell_type": "markdown",
   "id": "8fb84b52",
   "metadata": {
    "slideshow": {
     "slide_type": "subslide"
    }
   },
   "source": [
    "SC の計算にかかる時間を確認"
   ]
  },
  {
   "cell_type": "code",
   "execution_count": 28,
   "id": "bd9d88e8",
   "metadata": {
    "ExecuteTime": {
     "end_time": "2023-01-17T08:25:52.610998Z",
     "start_time": "2023-01-17T08:25:45.385519Z"
    },
    "slideshow": {
     "slide_type": "fragment"
    }
   },
   "outputs": [
    {
     "name": "stdout",
     "output_type": "stream",
     "text": [
      "8.93 µs ± 510 ns per loop (mean ± std. dev. of 7 runs, 100,000 loops each)\n"
     ]
    }
   ],
   "source": [
    "%%timeit\n",
    "SC = [(s,c) for s in S for c in C]"
   ]
  },
  {
   "cell_type": "code",
   "execution_count": 29,
   "id": "21b56235",
   "metadata": {
    "ExecuteTime": {
     "end_time": "2023-01-17T08:26:02.049111Z",
     "start_time": "2023-01-17T08:26:02.030550Z"
    },
    "scrolled": true,
    "slideshow": {
     "slide_type": "subslide"
    }
   },
   "outputs": [
    {
     "data": {
      "text/plain": [
       "True"
      ]
     },
     "execution_count": 29,
     "metadata": {},
     "output_type": "execute_result"
    }
   ],
   "source": [
    "## 免許を持っている学生のリスト\n",
    "S_license = students_df[students_df['license']==1]['student_id']\n",
    "S_license2 = students_df.loc[students_df['license']==1, 'student_id']\n",
    "(S_license == S_license2).all()"
   ]
  },
  {
   "cell_type": "markdown",
   "id": "c613ba54",
   "metadata": {
    "slideshow": {
     "slide_type": "subslide"
    }
   },
   "source": [
    "S_license の計算にかかる時間を確認"
   ]
  },
  {
   "cell_type": "code",
   "execution_count": 30,
   "id": "c1105f9c",
   "metadata": {
    "ExecuteTime": {
     "end_time": "2023-01-17T08:26:05.815852Z",
     "start_time": "2023-01-17T08:26:03.496800Z"
    },
    "slideshow": {
     "slide_type": "fragment"
    }
   },
   "outputs": [
    {
     "name": "stdout",
     "output_type": "stream",
     "text": [
      "286 µs ± 18.3 µs per loop (mean ± std. dev. of 7 runs, 1,000 loops each)\n"
     ]
    }
   ],
   "source": [
    "%%timeit\n",
    "S_license = students_df[students_df['license']==1]['student_id']"
   ]
  },
  {
   "cell_type": "code",
   "execution_count": 31,
   "id": "1468f2a5",
   "metadata": {
    "ExecuteTime": {
     "end_time": "2023-01-17T08:26:10.094594Z",
     "start_time": "2023-01-17T08:26:08.384425Z"
    },
    "slideshow": {
     "slide_type": "fragment"
    }
   },
   "outputs": [
    {
     "name": "stdout",
     "output_type": "stream",
     "text": [
      "207 µs ± 39.8 µs per loop (mean ± std. dev. of 7 runs, 1,000 loops each)\n"
     ]
    }
   ],
   "source": [
    "%%timeit\n",
    "S_license2 = students_df.loc[students_df['license']==1, 'student_id']"
   ]
  },
  {
   "cell_type": "code",
   "execution_count": 32,
   "id": "5b94c0fb",
   "metadata": {
    "ExecuteTime": {
     "end_time": "2023-01-17T08:26:13.013219Z",
     "start_time": "2023-01-17T08:26:13.001199Z"
    },
    "slideshow": {
     "slide_type": "subslide"
    }
   },
   "outputs": [],
   "source": [
    "## 学年が g の学生のリスト\n",
    "S_g0 = {g: students_df.loc[students_df['grade']==g, 'student_id'] \n",
    "       for g in G}\n",
    "S_g = {g: students_df[students_df['grade']==g]['student_id'] \n",
    "       for g in G}"
   ]
  },
  {
   "cell_type": "code",
   "execution_count": 33,
   "id": "cac6c28a",
   "metadata": {
    "ExecuteTime": {
     "end_time": "2023-01-17T08:26:13.918694Z",
     "start_time": "2023-01-17T08:26:13.906640Z"
    },
    "scrolled": false,
    "slideshow": {
     "slide_type": "subslide"
    }
   },
   "outputs": [
    {
     "name": "stdout",
     "output_type": "stream",
     "text": [
      "True\n",
      "False\n",
      "[True, True, True, True]\n"
     ]
    }
   ],
   "source": [
    "print(S_g0.keys() == S_g.keys())\n",
    "print(S_g0.values() == S_g.values())\n",
    "\n",
    "print([(S_g0[key] == S_g[key]).all() for key in S_g.keys()])\n"
   ]
  },
  {
   "cell_type": "code",
   "execution_count": 34,
   "id": "6544f6e2",
   "metadata": {
    "ExecuteTime": {
     "end_time": "2023-01-17T08:26:14.951259Z",
     "start_time": "2023-01-17T08:26:14.934319Z"
    },
    "scrolled": true,
    "slideshow": {
     "slide_type": "subslide"
    }
   },
   "outputs": [
    {
     "name": "stdout",
     "output_type": "stream",
     "text": [
      "dict_values([0      0\n",
      "4      4\n",
      "8      8\n",
      "12    12\n",
      "16    16\n",
      "20    20\n",
      "Name: student_id, dtype: int64, 1      1\n",
      "5      5\n",
      "9      9\n",
      "13    13\n",
      "17    17\n",
      "21    21\n",
      "Name: student_id, dtype: int64, 2      2\n",
      "6      6\n",
      "10    10\n",
      "14    14\n",
      "18    18\n",
      "22    22\n",
      "Name: student_id, dtype: int64, 3      3\n",
      "7      7\n",
      "11    11\n",
      "15    15\n",
      "19    19\n",
      "23    23\n",
      "Name: student_id, dtype: int64])\n",
      "---------------------\n",
      "dict_values([0      0\n",
      "4      4\n",
      "8      8\n",
      "12    12\n",
      "16    16\n",
      "20    20\n",
      "Name: student_id, dtype: int64, 1      1\n",
      "5      5\n",
      "9      9\n",
      "13    13\n",
      "17    17\n",
      "21    21\n",
      "Name: student_id, dtype: int64, 2      2\n",
      "6      6\n",
      "10    10\n",
      "14    14\n",
      "18    18\n",
      "22    22\n",
      "Name: student_id, dtype: int64, 3      3\n",
      "7      7\n",
      "11    11\n",
      "15    15\n",
      "19    19\n",
      "23    23\n",
      "Name: student_id, dtype: int64])\n"
     ]
    }
   ],
   "source": [
    "print(S_g0.values()) \n",
    "print('---------------------')\n",
    "print(S_g.values())"
   ]
  },
  {
   "cell_type": "markdown",
   "id": "c35fe011",
   "metadata": {
    "slideshow": {
     "slide_type": "subslide"
    }
   },
   "source": [
    "S_g の計算にかかる時間を確認"
   ]
  },
  {
   "cell_type": "code",
   "execution_count": 35,
   "id": "0a2b2386",
   "metadata": {
    "ExecuteTime": {
     "end_time": "2023-01-17T08:26:25.237699Z",
     "start_time": "2023-01-17T08:26:18.883294Z"
    },
    "slideshow": {
     "slide_type": "fragment"
    }
   },
   "outputs": [
    {
     "name": "stdout",
     "output_type": "stream",
     "text": [
      "780 µs ± 47.8 µs per loop (mean ± std. dev. of 7 runs, 1,000 loops each)\n"
     ]
    }
   ],
   "source": [
    "%%timeit\n",
    "S_g0 = {g: students_df.loc[students_df['grade']==g, 'student_id'] \n",
    "       for g in G}"
   ]
  },
  {
   "cell_type": "code",
   "execution_count": 36,
   "id": "e2835a17",
   "metadata": {
    "ExecuteTime": {
     "end_time": "2023-01-17T08:26:35.554096Z",
     "start_time": "2023-01-17T08:26:26.943729Z"
    },
    "slideshow": {
     "slide_type": "fragment"
    }
   },
   "outputs": [
    {
     "name": "stdout",
     "output_type": "stream",
     "text": [
      "1.06 ms ± 23.8 µs per loop (mean ± std. dev. of 7 runs, 1,000 loops each)\n"
     ]
    }
   ],
   "source": [
    "%%timeit\n",
    "S_g = {g: students_df[students_df['grade']==g]['student_id'] \n",
    "       for g in G}"
   ]
  },
  {
   "cell_type": "code",
   "execution_count": 37,
   "id": "c8270256",
   "metadata": {
    "ExecuteTime": {
     "end_time": "2023-01-17T08:26:36.739157Z",
     "start_time": "2023-01-17T08:26:36.728241Z"
    },
    "slideshow": {
     "slide_type": "subslide"
    }
   },
   "outputs": [],
   "source": [
    "## 男性と女性のリスト\n",
    "S_male = students_df[students_df['gender']==0]['student_id']\n",
    "S_female = students_df[students_df['gender']==1]['student_id']"
   ]
  },
  {
   "cell_type": "code",
   "execution_count": 38,
   "id": "d59bc7eb",
   "metadata": {
    "ExecuteTime": {
     "end_time": "2023-01-17T08:26:38.225964Z",
     "start_time": "2023-01-17T08:26:38.213951Z"
    },
    "scrolled": true,
    "slideshow": {
     "slide_type": "fragment"
    }
   },
   "outputs": [
    {
     "data": {
      "text/plain": [
       "True"
      ]
     },
     "execution_count": 38,
     "metadata": {},
     "output_type": "execute_result"
    }
   ],
   "source": [
    "S_male = students_df[students_df['gender']==0]['student_id']\n",
    "S_male0 = students_df.loc[students_df['gender']==0, 'student_id']\n",
    "(S_male0 == S_male).all()"
   ]
  },
  {
   "cell_type": "markdown",
   "id": "6ab7c691",
   "metadata": {
    "slideshow": {
     "slide_type": "subslide"
    }
   },
   "source": [
    "S_male の計算にかかる時間を確認"
   ]
  },
  {
   "cell_type": "code",
   "execution_count": 39,
   "id": "cb7f6a28",
   "metadata": {
    "ExecuteTime": {
     "end_time": "2023-01-17T08:26:41.388381Z",
     "start_time": "2023-01-17T08:26:39.618679Z"
    },
    "slideshow": {
     "slide_type": "fragment"
    }
   },
   "outputs": [
    {
     "name": "stdout",
     "output_type": "stream",
     "text": [
      "207 µs ± 19.7 µs per loop (mean ± std. dev. of 7 runs, 1,000 loops each)\n"
     ]
    }
   ],
   "source": [
    "%%timeit\n",
    "S_male0 = students_df.loc[students_df['gender']==0, 'student_id']"
   ]
  },
  {
   "cell_type": "code",
   "execution_count": 40,
   "id": "89daa283",
   "metadata": {
    "ExecuteTime": {
     "end_time": "2023-01-17T08:26:44.871111Z",
     "start_time": "2023-01-17T08:26:42.379744Z"
    },
    "scrolled": true,
    "slideshow": {
     "slide_type": "fragment"
    }
   },
   "outputs": [
    {
     "name": "stdout",
     "output_type": "stream",
     "text": [
      "302 µs ± 48.8 µs per loop (mean ± std. dev. of 7 runs, 1,000 loops each)\n"
     ]
    }
   ],
   "source": [
    "%%timeit\n",
    "S_male = students_df[students_df['gender']==0]['student_id']"
   ]
  },
  {
   "cell_type": "code",
   "execution_count": 41,
   "id": "8ea0b15d",
   "metadata": {
    "ExecuteTime": {
     "end_time": "2023-01-17T08:26:46.304011Z",
     "start_time": "2023-01-17T08:26:46.294491Z"
    },
    "slideshow": {
     "slide_type": "subslide"
    }
   },
   "outputs": [],
   "source": [
    "# 定数\n",
    "## 車の乗車定員の定数\n",
    "U = cars_df['capacity'].to_list()"
   ]
  },
  {
   "cell_type": "code",
   "execution_count": 42,
   "id": "bf8ab084",
   "metadata": {
    "ExecuteTime": {
     "end_time": "2023-01-17T08:26:48.554013Z",
     "start_time": "2023-01-17T08:26:48.544599Z"
    },
    "slideshow": {
     "slide_type": "subslide"
    }
   },
   "outputs": [],
   "source": [
    "# 変数\n",
    "## 学生をどの車に割り当てるかを変数として定義\n",
    "x = pulp.LpVariable.dicts('x', SC, cat='Binary')"
   ]
  },
  {
   "cell_type": "code",
   "execution_count": 43,
   "id": "57bfe7fe",
   "metadata": {
    "ExecuteTime": {
     "end_time": "2023-01-17T08:26:49.320705Z",
     "start_time": "2023-01-17T08:26:49.309419Z"
    },
    "slideshow": {
     "slide_type": "subslide"
    }
   },
   "outputs": [],
   "source": [
    "# 制約\n",
    "## (1) 各学生を １ つの車に割り当てる\n",
    "for s in S:\n",
    "    prob += pulp.lpSum([x[s,c] for c in C]) == 1\n",
    "    \n",
    "## (2) 法規制に関する制約: 各車には乗車定員より多く乗ることができない\n",
    "for c in C:\n",
    "    prob += pulp.lpSum([x[s,c] for s in S]) <= U[c]"
   ]
  },
  {
   "cell_type": "code",
   "execution_count": 44,
   "id": "7617f3a8",
   "metadata": {
    "ExecuteTime": {
     "end_time": "2023-01-17T08:26:50.801635Z",
     "start_time": "2023-01-17T08:26:50.791183Z"
    },
    "slideshow": {
     "slide_type": "subslide"
    }
   },
   "outputs": [],
   "source": [
    "## (3) 法規制に関する制約： 各車にドライバーを1人以上割り当てる\n",
    "for c in C:\n",
    "    prob += pulp.lpSum([x[s,c] for s in S_license]) >= 1\n",
    "    \n",
    "## (4) 懇親を目的とした制約: 各車に各学年の学生を1人以上割り当てる\n",
    "for c in C:\n",
    "    for g in G:\n",
    "        prob += pulp.lpSum([x[s,c] for s in S_g[g]]) >= 1"
   ]
  },
  {
   "cell_type": "code",
   "execution_count": 45,
   "id": "a0f4f8f1",
   "metadata": {
    "ExecuteTime": {
     "end_time": "2023-01-17T08:26:51.161449Z",
     "start_time": "2023-01-17T08:26:51.155223Z"
    },
    "slideshow": {
     "slide_type": "subslide"
    }
   },
   "outputs": [],
   "source": [
    "## (5) ジェンダーバランスを考慮した制約: 各車に男性を1人以上割り当てる\n",
    "for c in C:\n",
    "    prob += pulp.lpSum([x[s,c] for s in S_male]) >= 1\n",
    "\n",
    "## (5) ジェンダーバランスを考慮した制約: 各車に女性を1人以上割り当てる\n",
    "for c in C:\n",
    "    prob += pulp.lpSum([x[s,c] for s in S_female]) >= 1"
   ]
  },
  {
   "cell_type": "markdown",
   "id": "c339fd11",
   "metadata": {
    "slideshow": {
     "slide_type": "subslide"
    }
   },
   "source": [
    "## 問題を解く"
   ]
  },
  {
   "cell_type": "code",
   "execution_count": 46,
   "id": "1856d92e",
   "metadata": {
    "ExecuteTime": {
     "end_time": "2023-01-17T08:26:53.972382Z",
     "start_time": "2023-01-17T08:26:53.718864Z"
    },
    "slideshow": {
     "slide_type": "subslide"
    }
   },
   "outputs": [
    {
     "name": "stdout",
     "output_type": "stream",
     "text": [
      "Status:  Optimal\n"
     ]
    }
   ],
   "source": [
    "# 求解\n",
    "solver = pulp.SCIP()\n",
    "status = prob.solve(solver)\n",
    "\n",
    "print('Status: ', pulp.LpStatus[status])"
   ]
  },
  {
   "cell_type": "code",
   "execution_count": 47,
   "id": "d32575c0",
   "metadata": {
    "ExecuteTime": {
     "end_time": "2023-01-17T08:26:55.800296Z",
     "start_time": "2023-01-17T08:26:55.790271Z"
    },
    "slideshow": {
     "slide_type": "subslide"
    }
   },
   "outputs": [],
   "source": [
    "# 最適化結果の表示\n",
    "# 各車に割り当てられている学生のリストを辞書に格納（車 ID -> 割り当てられた学生のリスト）\n",
    "car2students = {\n",
    "    c: [s for s in S if x[s,c].value()==1] \n",
    "    for c in C\n",
    "}\n",
    "\n",
    "# 各車の乗車定員（車 ID -> 乗車定員）\n",
    "max_people = dict(\n",
    "    zip(cars_df['car_id'], cars_df['capacity'])\n",
    ")"
   ]
  },
  {
   "cell_type": "code",
   "execution_count": 48,
   "id": "9a934a50",
   "metadata": {
    "ExecuteTime": {
     "end_time": "2023-01-17T08:26:57.112360Z",
     "start_time": "2023-01-17T08:26:57.101671Z"
    },
    "scrolled": true,
    "slideshow": {
     "slide_type": "subslide"
    }
   },
   "outputs": [
    {
     "name": "stdout",
     "output_type": "stream",
     "text": [
      "車 ID: 0\n",
      "学生数（乗車定員）: 4(6)\n",
      "学生: [2, 5, 7, 8]\n",
      "\n",
      "車 ID: 1\n",
      "学生数（乗車定員）: 4(6)\n",
      "学生: [12, 15, 21, 22]\n",
      "\n",
      "車 ID: 2\n",
      "学生数（乗車定員）: 4(5)\n",
      "学生: [17, 18, 20, 23]\n",
      "\n",
      "車 ID: 3\n",
      "学生数（乗車定員）: 4(4)\n",
      "学生: [10, 13, 16, 19]\n",
      "\n",
      "車 ID: 4\n",
      "学生数（乗車定員）: 4(5)\n",
      "学生: [0, 1, 3, 14]\n",
      "\n",
      "車 ID: 5\n",
      "学生数（乗車定員）: 4(5)\n",
      "学生: [4, 6, 9, 11]\n",
      "\n"
     ]
    }
   ],
   "source": [
    "for c, ss in car2students.items():\n",
    "    print(f'車 ID: {c}')\n",
    "    print(f'学生数（乗車定員）: {len(ss)}({max_people[c]})')\n",
    "    print(f'学生: {ss}\\n')"
   ]
  },
  {
   "cell_type": "markdown",
   "id": "97022792",
   "metadata": {
    "slideshow": {
     "slide_type": "subslide"
    }
   },
   "source": [
    "## 確認"
   ]
  },
  {
   "cell_type": "code",
   "execution_count": 52,
   "id": "7eb9cc5f",
   "metadata": {
    "ExecuteTime": {
     "end_time": "2023-01-17T08:27:21.054789Z",
     "start_time": "2023-01-17T08:27:21.037830Z"
    },
    "slideshow": {
     "slide_type": "subslide"
    }
   },
   "outputs": [],
   "source": [
    "# 解を、車と学生の df と結合できる形式にする\n",
    "car2students_df = pd.DataFrame(car2students).T\\\n",
    "    .stack()\\\n",
    "    .reset_index(drop=False)\n",
    "car2students_df = car2students_df.drop(car2students_df.columns[1], axis=1)\n",
    "car2students_df.columns = ['car_id', 'student_id']\n",
    "\n",
    "# 結合する\n",
    "validation_df = pd.merge(\n",
    "    car2students_df, students_df, how='left'\n",
    ")\n",
    "validation_df = pd.merge(\n",
    "    validation_df, cars_df, how='left'\n",
    ")"
   ]
  },
  {
   "cell_type": "markdown",
   "id": "ac18966f",
   "metadata": {
    "slideshow": {
     "slide_type": "notes"
    }
   },
   "source": [
    "今回の制約を確認するだけなら、この df を作る必要はなかったかも..."
   ]
  },
  {
   "cell_type": "code",
   "execution_count": 53,
   "id": "91c83198",
   "metadata": {
    "ExecuteTime": {
     "end_time": "2023-01-17T08:27:25.746493Z",
     "start_time": "2023-01-17T08:27:25.730093Z"
    },
    "scrolled": true,
    "slideshow": {
     "slide_type": "subslide"
    }
   },
   "outputs": [
    {
     "data": {
      "text/html": [
       "<div>\n",
       "<style scoped>\n",
       "    .dataframe tbody tr th:only-of-type {\n",
       "        vertical-align: middle;\n",
       "    }\n",
       "\n",
       "    .dataframe tbody tr th {\n",
       "        vertical-align: top;\n",
       "    }\n",
       "\n",
       "    .dataframe thead th {\n",
       "        text-align: right;\n",
       "    }\n",
       "</style>\n",
       "<table border=\"1\" class=\"dataframe\">\n",
       "  <thead>\n",
       "    <tr style=\"text-align: right;\">\n",
       "      <th></th>\n",
       "      <th>car_id</th>\n",
       "      <th>student_id</th>\n",
       "      <th>license</th>\n",
       "      <th>gender</th>\n",
       "      <th>grade</th>\n",
       "      <th>capacity</th>\n",
       "    </tr>\n",
       "  </thead>\n",
       "  <tbody>\n",
       "    <tr>\n",
       "      <th>0</th>\n",
       "      <td>0</td>\n",
       "      <td>2</td>\n",
       "      <td>1</td>\n",
       "      <td>0</td>\n",
       "      <td>3</td>\n",
       "      <td>6</td>\n",
       "    </tr>\n",
       "    <tr>\n",
       "      <th>1</th>\n",
       "      <td>0</td>\n",
       "      <td>5</td>\n",
       "      <td>0</td>\n",
       "      <td>1</td>\n",
       "      <td>2</td>\n",
       "      <td>6</td>\n",
       "    </tr>\n",
       "    <tr>\n",
       "      <th>2</th>\n",
       "      <td>0</td>\n",
       "      <td>7</td>\n",
       "      <td>0</td>\n",
       "      <td>1</td>\n",
       "      <td>4</td>\n",
       "      <td>6</td>\n",
       "    </tr>\n",
       "    <tr>\n",
       "      <th>3</th>\n",
       "      <td>0</td>\n",
       "      <td>8</td>\n",
       "      <td>1</td>\n",
       "      <td>1</td>\n",
       "      <td>1</td>\n",
       "      <td>6</td>\n",
       "    </tr>\n",
       "    <tr>\n",
       "      <th>4</th>\n",
       "      <td>1</td>\n",
       "      <td>12</td>\n",
       "      <td>1</td>\n",
       "      <td>1</td>\n",
       "      <td>1</td>\n",
       "      <td>6</td>\n",
       "    </tr>\n",
       "    <tr>\n",
       "      <th>5</th>\n",
       "      <td>1</td>\n",
       "      <td>15</td>\n",
       "      <td>1</td>\n",
       "      <td>0</td>\n",
       "      <td>4</td>\n",
       "      <td>6</td>\n",
       "    </tr>\n",
       "    <tr>\n",
       "      <th>6</th>\n",
       "      <td>1</td>\n",
       "      <td>21</td>\n",
       "      <td>0</td>\n",
       "      <td>0</td>\n",
       "      <td>2</td>\n",
       "      <td>6</td>\n",
       "    </tr>\n",
       "    <tr>\n",
       "      <th>7</th>\n",
       "      <td>1</td>\n",
       "      <td>22</td>\n",
       "      <td>1</td>\n",
       "      <td>1</td>\n",
       "      <td>3</td>\n",
       "      <td>6</td>\n",
       "    </tr>\n",
       "    <tr>\n",
       "      <th>8</th>\n",
       "      <td>2</td>\n",
       "      <td>17</td>\n",
       "      <td>1</td>\n",
       "      <td>0</td>\n",
       "      <td>2</td>\n",
       "      <td>5</td>\n",
       "    </tr>\n",
       "    <tr>\n",
       "      <th>9</th>\n",
       "      <td>2</td>\n",
       "      <td>18</td>\n",
       "      <td>0</td>\n",
       "      <td>1</td>\n",
       "      <td>3</td>\n",
       "      <td>5</td>\n",
       "    </tr>\n",
       "    <tr>\n",
       "      <th>10</th>\n",
       "      <td>2</td>\n",
       "      <td>20</td>\n",
       "      <td>1</td>\n",
       "      <td>1</td>\n",
       "      <td>1</td>\n",
       "      <td>5</td>\n",
       "    </tr>\n",
       "    <tr>\n",
       "      <th>11</th>\n",
       "      <td>2</td>\n",
       "      <td>23</td>\n",
       "      <td>1</td>\n",
       "      <td>1</td>\n",
       "      <td>4</td>\n",
       "      <td>5</td>\n",
       "    </tr>\n",
       "    <tr>\n",
       "      <th>12</th>\n",
       "      <td>3</td>\n",
       "      <td>10</td>\n",
       "      <td>1</td>\n",
       "      <td>1</td>\n",
       "      <td>3</td>\n",
       "      <td>4</td>\n",
       "    </tr>\n",
       "    <tr>\n",
       "      <th>13</th>\n",
       "      <td>3</td>\n",
       "      <td>13</td>\n",
       "      <td>1</td>\n",
       "      <td>0</td>\n",
       "      <td>2</td>\n",
       "      <td>4</td>\n",
       "    </tr>\n",
       "    <tr>\n",
       "      <th>14</th>\n",
       "      <td>3</td>\n",
       "      <td>16</td>\n",
       "      <td>1</td>\n",
       "      <td>1</td>\n",
       "      <td>1</td>\n",
       "      <td>4</td>\n",
       "    </tr>\n",
       "    <tr>\n",
       "      <th>15</th>\n",
       "      <td>3</td>\n",
       "      <td>19</td>\n",
       "      <td>1</td>\n",
       "      <td>0</td>\n",
       "      <td>4</td>\n",
       "      <td>4</td>\n",
       "    </tr>\n",
       "    <tr>\n",
       "      <th>16</th>\n",
       "      <td>4</td>\n",
       "      <td>0</td>\n",
       "      <td>0</td>\n",
       "      <td>0</td>\n",
       "      <td>1</td>\n",
       "      <td>5</td>\n",
       "    </tr>\n",
       "    <tr>\n",
       "      <th>17</th>\n",
       "      <td>4</td>\n",
       "      <td>1</td>\n",
       "      <td>1</td>\n",
       "      <td>1</td>\n",
       "      <td>2</td>\n",
       "      <td>5</td>\n",
       "    </tr>\n",
       "    <tr>\n",
       "      <th>18</th>\n",
       "      <td>4</td>\n",
       "      <td>3</td>\n",
       "      <td>1</td>\n",
       "      <td>1</td>\n",
       "      <td>4</td>\n",
       "      <td>5</td>\n",
       "    </tr>\n",
       "    <tr>\n",
       "      <th>19</th>\n",
       "      <td>4</td>\n",
       "      <td>14</td>\n",
       "      <td>1</td>\n",
       "      <td>0</td>\n",
       "      <td>3</td>\n",
       "      <td>5</td>\n",
       "    </tr>\n",
       "    <tr>\n",
       "      <th>20</th>\n",
       "      <td>5</td>\n",
       "      <td>4</td>\n",
       "      <td>0</td>\n",
       "      <td>1</td>\n",
       "      <td>1</td>\n",
       "      <td>5</td>\n",
       "    </tr>\n",
       "    <tr>\n",
       "      <th>21</th>\n",
       "      <td>5</td>\n",
       "      <td>6</td>\n",
       "      <td>0</td>\n",
       "      <td>0</td>\n",
       "      <td>3</td>\n",
       "      <td>5</td>\n",
       "    </tr>\n",
       "    <tr>\n",
       "      <th>22</th>\n",
       "      <td>5</td>\n",
       "      <td>9</td>\n",
       "      <td>1</td>\n",
       "      <td>0</td>\n",
       "      <td>2</td>\n",
       "      <td>5</td>\n",
       "    </tr>\n",
       "    <tr>\n",
       "      <th>23</th>\n",
       "      <td>5</td>\n",
       "      <td>11</td>\n",
       "      <td>0</td>\n",
       "      <td>1</td>\n",
       "      <td>4</td>\n",
       "      <td>5</td>\n",
       "    </tr>\n",
       "  </tbody>\n",
       "</table>\n",
       "</div>"
      ],
      "text/plain": [
       "    car_id  student_id  license  gender  grade  capacity\n",
       "0        0           2        1       0      3         6\n",
       "1        0           5        0       1      2         6\n",
       "2        0           7        0       1      4         6\n",
       "3        0           8        1       1      1         6\n",
       "4        1          12        1       1      1         6\n",
       "5        1          15        1       0      4         6\n",
       "6        1          21        0       0      2         6\n",
       "7        1          22        1       1      3         6\n",
       "8        2          17        1       0      2         5\n",
       "9        2          18        0       1      3         5\n",
       "10       2          20        1       1      1         5\n",
       "11       2          23        1       1      4         5\n",
       "12       3          10        1       1      3         4\n",
       "13       3          13        1       0      2         4\n",
       "14       3          16        1       1      1         4\n",
       "15       3          19        1       0      4         4\n",
       "16       4           0        0       0      1         5\n",
       "17       4           1        1       1      2         5\n",
       "18       4           3        1       1      4         5\n",
       "19       4          14        1       0      3         5\n",
       "20       5           4        0       1      1         5\n",
       "21       5           6        0       0      3         5\n",
       "22       5           9        1       0      2         5\n",
       "23       5          11        0       1      4         5"
      ]
     },
     "execution_count": 53,
     "metadata": {},
     "output_type": "execute_result"
    }
   ],
   "source": [
    "validation_df"
   ]
  },
  {
   "cell_type": "code",
   "execution_count": 54,
   "id": "60758f56",
   "metadata": {
    "ExecuteTime": {
     "end_time": "2023-01-17T08:27:26.656306Z",
     "start_time": "2023-01-17T08:27:26.647363Z"
    },
    "slideshow": {
     "slide_type": "subslide"
    }
   },
   "outputs": [
    {
     "name": "stdout",
     "output_type": "stream",
     "text": [
      "True\n",
      "True\n"
     ]
    }
   ],
   "source": [
    "# 学生と車がきちんと全員、全車、解の中に存在するか調べる\n",
    "print(set(S) == set(validation_df['student_id']))\n",
    "print(set(C) == set(validation_df['car_id']))"
   ]
  },
  {
   "cell_type": "code",
   "execution_count": 55,
   "id": "f8c96f8d",
   "metadata": {
    "ExecuteTime": {
     "end_time": "2023-01-17T08:27:29.299020Z",
     "start_time": "2023-01-17T08:27:29.281637Z"
    },
    "scrolled": true,
    "slideshow": {
     "slide_type": "subslide"
    }
   },
   "outputs": [
    {
     "data": {
      "text/plain": [
       "2     1\n",
       "5     1\n",
       "9     1\n",
       "6     1\n",
       "4     1\n",
       "14    1\n",
       "3     1\n",
       "1     1\n",
       "0     1\n",
       "19    1\n",
       "16    1\n",
       "13    1\n",
       "10    1\n",
       "23    1\n",
       "20    1\n",
       "18    1\n",
       "17    1\n",
       "22    1\n",
       "21    1\n",
       "15    1\n",
       "12    1\n",
       "8     1\n",
       "7     1\n",
       "11    1\n",
       "Name: student_id, dtype: int64"
      ]
     },
     "execution_count": 55,
     "metadata": {},
     "output_type": "execute_result"
    }
   ],
   "source": [
    "# 制約(1) 各学生が一つの車に割り当てられているか\n",
    "validation_df['student_id'].value_counts()"
   ]
  },
  {
   "cell_type": "code",
   "execution_count": 33,
   "id": "0e13089a",
   "metadata": {
    "ExecuteTime": {
     "end_time": "2023-01-13T08:27:34.687128Z",
     "start_time": "2023-01-13T08:27:34.609611Z"
    },
    "scrolled": true,
    "slideshow": {
     "slide_type": "subslide"
    }
   },
   "outputs": [
    {
     "data": {
      "text/html": [
       "<div>\n",
       "<style scoped>\n",
       "    .dataframe tbody tr th:only-of-type {\n",
       "        vertical-align: middle;\n",
       "    }\n",
       "\n",
       "    .dataframe tbody tr th {\n",
       "        vertical-align: top;\n",
       "    }\n",
       "\n",
       "    .dataframe thead th {\n",
       "        text-align: right;\n",
       "    }\n",
       "</style>\n",
       "<table border=\"1\" class=\"dataframe\">\n",
       "  <thead>\n",
       "    <tr style=\"text-align: right;\">\n",
       "      <th></th>\n",
       "      <th>car_id</th>\n",
       "      <th>student_id</th>\n",
       "      <th>license</th>\n",
       "      <th>gender</th>\n",
       "      <th>grade</th>\n",
       "      <th>capacity</th>\n",
       "    </tr>\n",
       "  </thead>\n",
       "  <tbody>\n",
       "    <tr>\n",
       "      <th>0</th>\n",
       "      <td>0</td>\n",
       "      <td>2</td>\n",
       "      <td>1</td>\n",
       "      <td>0</td>\n",
       "      <td>3</td>\n",
       "      <td>6</td>\n",
       "    </tr>\n",
       "    <tr>\n",
       "      <th>1</th>\n",
       "      <td>0</td>\n",
       "      <td>5</td>\n",
       "      <td>0</td>\n",
       "      <td>1</td>\n",
       "      <td>2</td>\n",
       "      <td>6</td>\n",
       "    </tr>\n",
       "    <tr>\n",
       "      <th>2</th>\n",
       "      <td>0</td>\n",
       "      <td>7</td>\n",
       "      <td>0</td>\n",
       "      <td>1</td>\n",
       "      <td>4</td>\n",
       "      <td>6</td>\n",
       "    </tr>\n",
       "    <tr>\n",
       "      <th>3</th>\n",
       "      <td>0</td>\n",
       "      <td>8</td>\n",
       "      <td>1</td>\n",
       "      <td>1</td>\n",
       "      <td>1</td>\n",
       "      <td>6</td>\n",
       "    </tr>\n",
       "  </tbody>\n",
       "</table>\n",
       "</div>"
      ],
      "text/plain": [
       "   car_id  student_id  license  gender  grade  capacity\n",
       "0       0           2        1       0      3         6\n",
       "1       0           5        0       1      2         6\n",
       "2       0           7        0       1      4         6\n",
       "3       0           8        1       1      1         6"
      ]
     },
     "metadata": {},
     "output_type": "display_data"
    },
    {
     "name": "stdout",
     "output_type": "stream",
     "text": [
      "True\n"
     ]
    },
    {
     "data": {
      "text/html": [
       "<div>\n",
       "<style scoped>\n",
       "    .dataframe tbody tr th:only-of-type {\n",
       "        vertical-align: middle;\n",
       "    }\n",
       "\n",
       "    .dataframe tbody tr th {\n",
       "        vertical-align: top;\n",
       "    }\n",
       "\n",
       "    .dataframe thead th {\n",
       "        text-align: right;\n",
       "    }\n",
       "</style>\n",
       "<table border=\"1\" class=\"dataframe\">\n",
       "  <thead>\n",
       "    <tr style=\"text-align: right;\">\n",
       "      <th></th>\n",
       "      <th>car_id</th>\n",
       "      <th>student_id</th>\n",
       "      <th>license</th>\n",
       "      <th>gender</th>\n",
       "      <th>grade</th>\n",
       "      <th>capacity</th>\n",
       "    </tr>\n",
       "  </thead>\n",
       "  <tbody>\n",
       "    <tr>\n",
       "      <th>4</th>\n",
       "      <td>1</td>\n",
       "      <td>12</td>\n",
       "      <td>1</td>\n",
       "      <td>1</td>\n",
       "      <td>1</td>\n",
       "      <td>6</td>\n",
       "    </tr>\n",
       "    <tr>\n",
       "      <th>5</th>\n",
       "      <td>1</td>\n",
       "      <td>15</td>\n",
       "      <td>1</td>\n",
       "      <td>0</td>\n",
       "      <td>4</td>\n",
       "      <td>6</td>\n",
       "    </tr>\n",
       "    <tr>\n",
       "      <th>6</th>\n",
       "      <td>1</td>\n",
       "      <td>21</td>\n",
       "      <td>0</td>\n",
       "      <td>0</td>\n",
       "      <td>2</td>\n",
       "      <td>6</td>\n",
       "    </tr>\n",
       "    <tr>\n",
       "      <th>7</th>\n",
       "      <td>1</td>\n",
       "      <td>22</td>\n",
       "      <td>1</td>\n",
       "      <td>1</td>\n",
       "      <td>3</td>\n",
       "      <td>6</td>\n",
       "    </tr>\n",
       "  </tbody>\n",
       "</table>\n",
       "</div>"
      ],
      "text/plain": [
       "   car_id  student_id  license  gender  grade  capacity\n",
       "4       1          12        1       1      1         6\n",
       "5       1          15        1       0      4         6\n",
       "6       1          21        0       0      2         6\n",
       "7       1          22        1       1      3         6"
      ]
     },
     "metadata": {},
     "output_type": "display_data"
    },
    {
     "name": "stdout",
     "output_type": "stream",
     "text": [
      "True\n"
     ]
    },
    {
     "data": {
      "text/html": [
       "<div>\n",
       "<style scoped>\n",
       "    .dataframe tbody tr th:only-of-type {\n",
       "        vertical-align: middle;\n",
       "    }\n",
       "\n",
       "    .dataframe tbody tr th {\n",
       "        vertical-align: top;\n",
       "    }\n",
       "\n",
       "    .dataframe thead th {\n",
       "        text-align: right;\n",
       "    }\n",
       "</style>\n",
       "<table border=\"1\" class=\"dataframe\">\n",
       "  <thead>\n",
       "    <tr style=\"text-align: right;\">\n",
       "      <th></th>\n",
       "      <th>car_id</th>\n",
       "      <th>student_id</th>\n",
       "      <th>license</th>\n",
       "      <th>gender</th>\n",
       "      <th>grade</th>\n",
       "      <th>capacity</th>\n",
       "    </tr>\n",
       "  </thead>\n",
       "  <tbody>\n",
       "    <tr>\n",
       "      <th>8</th>\n",
       "      <td>2</td>\n",
       "      <td>17</td>\n",
       "      <td>1</td>\n",
       "      <td>0</td>\n",
       "      <td>2</td>\n",
       "      <td>5</td>\n",
       "    </tr>\n",
       "    <tr>\n",
       "      <th>9</th>\n",
       "      <td>2</td>\n",
       "      <td>18</td>\n",
       "      <td>0</td>\n",
       "      <td>1</td>\n",
       "      <td>3</td>\n",
       "      <td>5</td>\n",
       "    </tr>\n",
       "    <tr>\n",
       "      <th>10</th>\n",
       "      <td>2</td>\n",
       "      <td>20</td>\n",
       "      <td>1</td>\n",
       "      <td>1</td>\n",
       "      <td>1</td>\n",
       "      <td>5</td>\n",
       "    </tr>\n",
       "    <tr>\n",
       "      <th>11</th>\n",
       "      <td>2</td>\n",
       "      <td>23</td>\n",
       "      <td>1</td>\n",
       "      <td>1</td>\n",
       "      <td>4</td>\n",
       "      <td>5</td>\n",
       "    </tr>\n",
       "  </tbody>\n",
       "</table>\n",
       "</div>"
      ],
      "text/plain": [
       "    car_id  student_id  license  gender  grade  capacity\n",
       "8        2          17        1       0      2         5\n",
       "9        2          18        0       1      3         5\n",
       "10       2          20        1       1      1         5\n",
       "11       2          23        1       1      4         5"
      ]
     },
     "metadata": {},
     "output_type": "display_data"
    },
    {
     "name": "stdout",
     "output_type": "stream",
     "text": [
      "True\n"
     ]
    },
    {
     "data": {
      "text/html": [
       "<div>\n",
       "<style scoped>\n",
       "    .dataframe tbody tr th:only-of-type {\n",
       "        vertical-align: middle;\n",
       "    }\n",
       "\n",
       "    .dataframe tbody tr th {\n",
       "        vertical-align: top;\n",
       "    }\n",
       "\n",
       "    .dataframe thead th {\n",
       "        text-align: right;\n",
       "    }\n",
       "</style>\n",
       "<table border=\"1\" class=\"dataframe\">\n",
       "  <thead>\n",
       "    <tr style=\"text-align: right;\">\n",
       "      <th></th>\n",
       "      <th>car_id</th>\n",
       "      <th>student_id</th>\n",
       "      <th>license</th>\n",
       "      <th>gender</th>\n",
       "      <th>grade</th>\n",
       "      <th>capacity</th>\n",
       "    </tr>\n",
       "  </thead>\n",
       "  <tbody>\n",
       "    <tr>\n",
       "      <th>12</th>\n",
       "      <td>3</td>\n",
       "      <td>10</td>\n",
       "      <td>1</td>\n",
       "      <td>1</td>\n",
       "      <td>3</td>\n",
       "      <td>4</td>\n",
       "    </tr>\n",
       "    <tr>\n",
       "      <th>13</th>\n",
       "      <td>3</td>\n",
       "      <td>13</td>\n",
       "      <td>1</td>\n",
       "      <td>0</td>\n",
       "      <td>2</td>\n",
       "      <td>4</td>\n",
       "    </tr>\n",
       "    <tr>\n",
       "      <th>14</th>\n",
       "      <td>3</td>\n",
       "      <td>16</td>\n",
       "      <td>1</td>\n",
       "      <td>1</td>\n",
       "      <td>1</td>\n",
       "      <td>4</td>\n",
       "    </tr>\n",
       "    <tr>\n",
       "      <th>15</th>\n",
       "      <td>3</td>\n",
       "      <td>19</td>\n",
       "      <td>1</td>\n",
       "      <td>0</td>\n",
       "      <td>4</td>\n",
       "      <td>4</td>\n",
       "    </tr>\n",
       "  </tbody>\n",
       "</table>\n",
       "</div>"
      ],
      "text/plain": [
       "    car_id  student_id  license  gender  grade  capacity\n",
       "12       3          10        1       1      3         4\n",
       "13       3          13        1       0      2         4\n",
       "14       3          16        1       1      1         4\n",
       "15       3          19        1       0      4         4"
      ]
     },
     "metadata": {},
     "output_type": "display_data"
    },
    {
     "name": "stdout",
     "output_type": "stream",
     "text": [
      "True\n"
     ]
    },
    {
     "data": {
      "text/html": [
       "<div>\n",
       "<style scoped>\n",
       "    .dataframe tbody tr th:only-of-type {\n",
       "        vertical-align: middle;\n",
       "    }\n",
       "\n",
       "    .dataframe tbody tr th {\n",
       "        vertical-align: top;\n",
       "    }\n",
       "\n",
       "    .dataframe thead th {\n",
       "        text-align: right;\n",
       "    }\n",
       "</style>\n",
       "<table border=\"1\" class=\"dataframe\">\n",
       "  <thead>\n",
       "    <tr style=\"text-align: right;\">\n",
       "      <th></th>\n",
       "      <th>car_id</th>\n",
       "      <th>student_id</th>\n",
       "      <th>license</th>\n",
       "      <th>gender</th>\n",
       "      <th>grade</th>\n",
       "      <th>capacity</th>\n",
       "    </tr>\n",
       "  </thead>\n",
       "  <tbody>\n",
       "    <tr>\n",
       "      <th>16</th>\n",
       "      <td>4</td>\n",
       "      <td>0</td>\n",
       "      <td>0</td>\n",
       "      <td>0</td>\n",
       "      <td>1</td>\n",
       "      <td>5</td>\n",
       "    </tr>\n",
       "    <tr>\n",
       "      <th>17</th>\n",
       "      <td>4</td>\n",
       "      <td>1</td>\n",
       "      <td>1</td>\n",
       "      <td>1</td>\n",
       "      <td>2</td>\n",
       "      <td>5</td>\n",
       "    </tr>\n",
       "    <tr>\n",
       "      <th>18</th>\n",
       "      <td>4</td>\n",
       "      <td>3</td>\n",
       "      <td>1</td>\n",
       "      <td>1</td>\n",
       "      <td>4</td>\n",
       "      <td>5</td>\n",
       "    </tr>\n",
       "    <tr>\n",
       "      <th>19</th>\n",
       "      <td>4</td>\n",
       "      <td>14</td>\n",
       "      <td>1</td>\n",
       "      <td>0</td>\n",
       "      <td>3</td>\n",
       "      <td>5</td>\n",
       "    </tr>\n",
       "  </tbody>\n",
       "</table>\n",
       "</div>"
      ],
      "text/plain": [
       "    car_id  student_id  license  gender  grade  capacity\n",
       "16       4           0        0       0      1         5\n",
       "17       4           1        1       1      2         5\n",
       "18       4           3        1       1      4         5\n",
       "19       4          14        1       0      3         5"
      ]
     },
     "metadata": {},
     "output_type": "display_data"
    },
    {
     "name": "stdout",
     "output_type": "stream",
     "text": [
      "True\n"
     ]
    },
    {
     "data": {
      "text/html": [
       "<div>\n",
       "<style scoped>\n",
       "    .dataframe tbody tr th:only-of-type {\n",
       "        vertical-align: middle;\n",
       "    }\n",
       "\n",
       "    .dataframe tbody tr th {\n",
       "        vertical-align: top;\n",
       "    }\n",
       "\n",
       "    .dataframe thead th {\n",
       "        text-align: right;\n",
       "    }\n",
       "</style>\n",
       "<table border=\"1\" class=\"dataframe\">\n",
       "  <thead>\n",
       "    <tr style=\"text-align: right;\">\n",
       "      <th></th>\n",
       "      <th>car_id</th>\n",
       "      <th>student_id</th>\n",
       "      <th>license</th>\n",
       "      <th>gender</th>\n",
       "      <th>grade</th>\n",
       "      <th>capacity</th>\n",
       "    </tr>\n",
       "  </thead>\n",
       "  <tbody>\n",
       "    <tr>\n",
       "      <th>20</th>\n",
       "      <td>5</td>\n",
       "      <td>4</td>\n",
       "      <td>0</td>\n",
       "      <td>1</td>\n",
       "      <td>1</td>\n",
       "      <td>5</td>\n",
       "    </tr>\n",
       "    <tr>\n",
       "      <th>21</th>\n",
       "      <td>5</td>\n",
       "      <td>6</td>\n",
       "      <td>0</td>\n",
       "      <td>0</td>\n",
       "      <td>3</td>\n",
       "      <td>5</td>\n",
       "    </tr>\n",
       "    <tr>\n",
       "      <th>22</th>\n",
       "      <td>5</td>\n",
       "      <td>9</td>\n",
       "      <td>1</td>\n",
       "      <td>0</td>\n",
       "      <td>2</td>\n",
       "      <td>5</td>\n",
       "    </tr>\n",
       "    <tr>\n",
       "      <th>23</th>\n",
       "      <td>5</td>\n",
       "      <td>11</td>\n",
       "      <td>0</td>\n",
       "      <td>1</td>\n",
       "      <td>4</td>\n",
       "      <td>5</td>\n",
       "    </tr>\n",
       "  </tbody>\n",
       "</table>\n",
       "</div>"
      ],
      "text/plain": [
       "    car_id  student_id  license  gender  grade  capacity\n",
       "20       5           4        0       1      1         5\n",
       "21       5           6        0       0      3         5\n",
       "22       5           9        1       0      2         5\n",
       "23       5          11        0       1      4         5"
      ]
     },
     "metadata": {},
     "output_type": "display_data"
    },
    {
     "name": "stdout",
     "output_type": "stream",
     "text": [
      "True\n"
     ]
    }
   ],
   "source": [
    "# 制約(2) 各車が乗車定員オーバーしていないか\n",
    "for c in validation_df['car_id'].unique():\n",
    "    tmp_df = validation_df[validation_df['car_id']==c].copy()\n",
    "    display(tmp_df)\n",
    "    print(all(len(tmp_df) <= tmp_df['capacity']))"
   ]
  },
  {
   "cell_type": "code",
   "execution_count": 59,
   "id": "4a15eda4",
   "metadata": {
    "ExecuteTime": {
     "end_time": "2023-01-17T08:29:37.142841Z",
     "start_time": "2023-01-17T08:29:37.132893Z"
    },
    "slideshow": {
     "slide_type": "subslide"
    }
   },
   "outputs": [
    {
     "name": "stdout",
     "output_type": "stream",
     "text": [
      "True\n",
      "True\n",
      "True\n",
      "True\n",
      "True\n",
      "True\n"
     ]
    }
   ],
   "source": [
    "# 制約(2) 別検証\n",
    "for i, k in enumerate(car2students.keys()):\n",
    "    print(len(car2students[k]) <= U[i])"
   ]
  },
  {
   "cell_type": "code",
   "execution_count": 34,
   "id": "3e0ca08a",
   "metadata": {
    "ExecuteTime": {
     "end_time": "2023-01-13T08:28:42.484908Z",
     "start_time": "2023-01-13T08:28:42.472435Z"
    },
    "scrolled": true,
    "slideshow": {
     "slide_type": "subslide"
    }
   },
   "outputs": [
    {
     "data": {
      "text/plain": [
       "car_id\n",
       "0    2\n",
       "1    3\n",
       "2    3\n",
       "3    4\n",
       "4    3\n",
       "5    1\n",
       "Name: license, dtype: int64"
      ]
     },
     "execution_count": 34,
     "metadata": {},
     "output_type": "execute_result"
    }
   ],
   "source": [
    "# 制約(3) 各車にドライバーが1人以上いるか\n",
    "validation_df.groupby('car_id')['license'].sum()"
   ]
  },
  {
   "cell_type": "code",
   "execution_count": 35,
   "id": "d2fda352",
   "metadata": {
    "ExecuteTime": {
     "end_time": "2023-01-12T09:26:36.490438Z",
     "start_time": "2023-01-12T09:26:36.428952Z"
    },
    "scrolled": true,
    "slideshow": {
     "slide_type": "subslide"
    }
   },
   "outputs": [
    {
     "data": {
      "text/html": [
       "<div>\n",
       "<style scoped>\n",
       "    .dataframe tbody tr th:only-of-type {\n",
       "        vertical-align: middle;\n",
       "    }\n",
       "\n",
       "    .dataframe tbody tr th {\n",
       "        vertical-align: top;\n",
       "    }\n",
       "\n",
       "    .dataframe thead th {\n",
       "        text-align: right;\n",
       "    }\n",
       "</style>\n",
       "<table border=\"1\" class=\"dataframe\">\n",
       "  <thead>\n",
       "    <tr style=\"text-align: right;\">\n",
       "      <th></th>\n",
       "      <th>car_id</th>\n",
       "      <th>student_id</th>\n",
       "      <th>license</th>\n",
       "      <th>gender</th>\n",
       "      <th>grade</th>\n",
       "      <th>capacity</th>\n",
       "    </tr>\n",
       "  </thead>\n",
       "  <tbody>\n",
       "    <tr>\n",
       "      <th>0</th>\n",
       "      <td>0</td>\n",
       "      <td>2</td>\n",
       "      <td>1</td>\n",
       "      <td>0</td>\n",
       "      <td>3</td>\n",
       "      <td>6</td>\n",
       "    </tr>\n",
       "    <tr>\n",
       "      <th>1</th>\n",
       "      <td>0</td>\n",
       "      <td>5</td>\n",
       "      <td>0</td>\n",
       "      <td>1</td>\n",
       "      <td>2</td>\n",
       "      <td>6</td>\n",
       "    </tr>\n",
       "    <tr>\n",
       "      <th>2</th>\n",
       "      <td>0</td>\n",
       "      <td>7</td>\n",
       "      <td>0</td>\n",
       "      <td>1</td>\n",
       "      <td>4</td>\n",
       "      <td>6</td>\n",
       "    </tr>\n",
       "    <tr>\n",
       "      <th>3</th>\n",
       "      <td>0</td>\n",
       "      <td>8</td>\n",
       "      <td>1</td>\n",
       "      <td>1</td>\n",
       "      <td>1</td>\n",
       "      <td>6</td>\n",
       "    </tr>\n",
       "  </tbody>\n",
       "</table>\n",
       "</div>"
      ],
      "text/plain": [
       "   car_id  student_id  license  gender  grade  capacity\n",
       "0       0           2        1       0      3         6\n",
       "1       0           5        0       1      2         6\n",
       "2       0           7        0       1      4         6\n",
       "3       0           8        1       1      1         6"
      ]
     },
     "metadata": {},
     "output_type": "display_data"
    },
    {
     "name": "stdout",
     "output_type": "stream",
     "text": [
      "True\n"
     ]
    },
    {
     "data": {
      "text/html": [
       "<div>\n",
       "<style scoped>\n",
       "    .dataframe tbody tr th:only-of-type {\n",
       "        vertical-align: middle;\n",
       "    }\n",
       "\n",
       "    .dataframe tbody tr th {\n",
       "        vertical-align: top;\n",
       "    }\n",
       "\n",
       "    .dataframe thead th {\n",
       "        text-align: right;\n",
       "    }\n",
       "</style>\n",
       "<table border=\"1\" class=\"dataframe\">\n",
       "  <thead>\n",
       "    <tr style=\"text-align: right;\">\n",
       "      <th></th>\n",
       "      <th>car_id</th>\n",
       "      <th>student_id</th>\n",
       "      <th>license</th>\n",
       "      <th>gender</th>\n",
       "      <th>grade</th>\n",
       "      <th>capacity</th>\n",
       "    </tr>\n",
       "  </thead>\n",
       "  <tbody>\n",
       "    <tr>\n",
       "      <th>4</th>\n",
       "      <td>1</td>\n",
       "      <td>12</td>\n",
       "      <td>1</td>\n",
       "      <td>1</td>\n",
       "      <td>1</td>\n",
       "      <td>6</td>\n",
       "    </tr>\n",
       "    <tr>\n",
       "      <th>5</th>\n",
       "      <td>1</td>\n",
       "      <td>15</td>\n",
       "      <td>1</td>\n",
       "      <td>0</td>\n",
       "      <td>4</td>\n",
       "      <td>6</td>\n",
       "    </tr>\n",
       "    <tr>\n",
       "      <th>6</th>\n",
       "      <td>1</td>\n",
       "      <td>21</td>\n",
       "      <td>0</td>\n",
       "      <td>0</td>\n",
       "      <td>2</td>\n",
       "      <td>6</td>\n",
       "    </tr>\n",
       "    <tr>\n",
       "      <th>7</th>\n",
       "      <td>1</td>\n",
       "      <td>22</td>\n",
       "      <td>1</td>\n",
       "      <td>1</td>\n",
       "      <td>3</td>\n",
       "      <td>6</td>\n",
       "    </tr>\n",
       "  </tbody>\n",
       "</table>\n",
       "</div>"
      ],
      "text/plain": [
       "   car_id  student_id  license  gender  grade  capacity\n",
       "4       1          12        1       1      1         6\n",
       "5       1          15        1       0      4         6\n",
       "6       1          21        0       0      2         6\n",
       "7       1          22        1       1      3         6"
      ]
     },
     "metadata": {},
     "output_type": "display_data"
    },
    {
     "name": "stdout",
     "output_type": "stream",
     "text": [
      "True\n"
     ]
    },
    {
     "data": {
      "text/html": [
       "<div>\n",
       "<style scoped>\n",
       "    .dataframe tbody tr th:only-of-type {\n",
       "        vertical-align: middle;\n",
       "    }\n",
       "\n",
       "    .dataframe tbody tr th {\n",
       "        vertical-align: top;\n",
       "    }\n",
       "\n",
       "    .dataframe thead th {\n",
       "        text-align: right;\n",
       "    }\n",
       "</style>\n",
       "<table border=\"1\" class=\"dataframe\">\n",
       "  <thead>\n",
       "    <tr style=\"text-align: right;\">\n",
       "      <th></th>\n",
       "      <th>car_id</th>\n",
       "      <th>student_id</th>\n",
       "      <th>license</th>\n",
       "      <th>gender</th>\n",
       "      <th>grade</th>\n",
       "      <th>capacity</th>\n",
       "    </tr>\n",
       "  </thead>\n",
       "  <tbody>\n",
       "    <tr>\n",
       "      <th>8</th>\n",
       "      <td>2</td>\n",
       "      <td>17</td>\n",
       "      <td>1</td>\n",
       "      <td>0</td>\n",
       "      <td>2</td>\n",
       "      <td>5</td>\n",
       "    </tr>\n",
       "    <tr>\n",
       "      <th>9</th>\n",
       "      <td>2</td>\n",
       "      <td>18</td>\n",
       "      <td>0</td>\n",
       "      <td>1</td>\n",
       "      <td>3</td>\n",
       "      <td>5</td>\n",
       "    </tr>\n",
       "    <tr>\n",
       "      <th>10</th>\n",
       "      <td>2</td>\n",
       "      <td>20</td>\n",
       "      <td>1</td>\n",
       "      <td>1</td>\n",
       "      <td>1</td>\n",
       "      <td>5</td>\n",
       "    </tr>\n",
       "    <tr>\n",
       "      <th>11</th>\n",
       "      <td>2</td>\n",
       "      <td>23</td>\n",
       "      <td>1</td>\n",
       "      <td>1</td>\n",
       "      <td>4</td>\n",
       "      <td>5</td>\n",
       "    </tr>\n",
       "  </tbody>\n",
       "</table>\n",
       "</div>"
      ],
      "text/plain": [
       "    car_id  student_id  license  gender  grade  capacity\n",
       "8        2          17        1       0      2         5\n",
       "9        2          18        0       1      3         5\n",
       "10       2          20        1       1      1         5\n",
       "11       2          23        1       1      4         5"
      ]
     },
     "metadata": {},
     "output_type": "display_data"
    },
    {
     "name": "stdout",
     "output_type": "stream",
     "text": [
      "True\n"
     ]
    },
    {
     "data": {
      "text/html": [
       "<div>\n",
       "<style scoped>\n",
       "    .dataframe tbody tr th:only-of-type {\n",
       "        vertical-align: middle;\n",
       "    }\n",
       "\n",
       "    .dataframe tbody tr th {\n",
       "        vertical-align: top;\n",
       "    }\n",
       "\n",
       "    .dataframe thead th {\n",
       "        text-align: right;\n",
       "    }\n",
       "</style>\n",
       "<table border=\"1\" class=\"dataframe\">\n",
       "  <thead>\n",
       "    <tr style=\"text-align: right;\">\n",
       "      <th></th>\n",
       "      <th>car_id</th>\n",
       "      <th>student_id</th>\n",
       "      <th>license</th>\n",
       "      <th>gender</th>\n",
       "      <th>grade</th>\n",
       "      <th>capacity</th>\n",
       "    </tr>\n",
       "  </thead>\n",
       "  <tbody>\n",
       "    <tr>\n",
       "      <th>12</th>\n",
       "      <td>3</td>\n",
       "      <td>10</td>\n",
       "      <td>1</td>\n",
       "      <td>1</td>\n",
       "      <td>3</td>\n",
       "      <td>4</td>\n",
       "    </tr>\n",
       "    <tr>\n",
       "      <th>13</th>\n",
       "      <td>3</td>\n",
       "      <td>13</td>\n",
       "      <td>1</td>\n",
       "      <td>0</td>\n",
       "      <td>2</td>\n",
       "      <td>4</td>\n",
       "    </tr>\n",
       "    <tr>\n",
       "      <th>14</th>\n",
       "      <td>3</td>\n",
       "      <td>16</td>\n",
       "      <td>1</td>\n",
       "      <td>1</td>\n",
       "      <td>1</td>\n",
       "      <td>4</td>\n",
       "    </tr>\n",
       "    <tr>\n",
       "      <th>15</th>\n",
       "      <td>3</td>\n",
       "      <td>19</td>\n",
       "      <td>1</td>\n",
       "      <td>0</td>\n",
       "      <td>4</td>\n",
       "      <td>4</td>\n",
       "    </tr>\n",
       "  </tbody>\n",
       "</table>\n",
       "</div>"
      ],
      "text/plain": [
       "    car_id  student_id  license  gender  grade  capacity\n",
       "12       3          10        1       1      3         4\n",
       "13       3          13        1       0      2         4\n",
       "14       3          16        1       1      1         4\n",
       "15       3          19        1       0      4         4"
      ]
     },
     "metadata": {},
     "output_type": "display_data"
    },
    {
     "name": "stdout",
     "output_type": "stream",
     "text": [
      "True\n"
     ]
    },
    {
     "data": {
      "text/html": [
       "<div>\n",
       "<style scoped>\n",
       "    .dataframe tbody tr th:only-of-type {\n",
       "        vertical-align: middle;\n",
       "    }\n",
       "\n",
       "    .dataframe tbody tr th {\n",
       "        vertical-align: top;\n",
       "    }\n",
       "\n",
       "    .dataframe thead th {\n",
       "        text-align: right;\n",
       "    }\n",
       "</style>\n",
       "<table border=\"1\" class=\"dataframe\">\n",
       "  <thead>\n",
       "    <tr style=\"text-align: right;\">\n",
       "      <th></th>\n",
       "      <th>car_id</th>\n",
       "      <th>student_id</th>\n",
       "      <th>license</th>\n",
       "      <th>gender</th>\n",
       "      <th>grade</th>\n",
       "      <th>capacity</th>\n",
       "    </tr>\n",
       "  </thead>\n",
       "  <tbody>\n",
       "    <tr>\n",
       "      <th>16</th>\n",
       "      <td>4</td>\n",
       "      <td>0</td>\n",
       "      <td>0</td>\n",
       "      <td>0</td>\n",
       "      <td>1</td>\n",
       "      <td>5</td>\n",
       "    </tr>\n",
       "    <tr>\n",
       "      <th>17</th>\n",
       "      <td>4</td>\n",
       "      <td>1</td>\n",
       "      <td>1</td>\n",
       "      <td>1</td>\n",
       "      <td>2</td>\n",
       "      <td>5</td>\n",
       "    </tr>\n",
       "    <tr>\n",
       "      <th>18</th>\n",
       "      <td>4</td>\n",
       "      <td>3</td>\n",
       "      <td>1</td>\n",
       "      <td>1</td>\n",
       "      <td>4</td>\n",
       "      <td>5</td>\n",
       "    </tr>\n",
       "    <tr>\n",
       "      <th>19</th>\n",
       "      <td>4</td>\n",
       "      <td>14</td>\n",
       "      <td>1</td>\n",
       "      <td>0</td>\n",
       "      <td>3</td>\n",
       "      <td>5</td>\n",
       "    </tr>\n",
       "  </tbody>\n",
       "</table>\n",
       "</div>"
      ],
      "text/plain": [
       "    car_id  student_id  license  gender  grade  capacity\n",
       "16       4           0        0       0      1         5\n",
       "17       4           1        1       1      2         5\n",
       "18       4           3        1       1      4         5\n",
       "19       4          14        1       0      3         5"
      ]
     },
     "metadata": {},
     "output_type": "display_data"
    },
    {
     "name": "stdout",
     "output_type": "stream",
     "text": [
      "True\n"
     ]
    },
    {
     "data": {
      "text/html": [
       "<div>\n",
       "<style scoped>\n",
       "    .dataframe tbody tr th:only-of-type {\n",
       "        vertical-align: middle;\n",
       "    }\n",
       "\n",
       "    .dataframe tbody tr th {\n",
       "        vertical-align: top;\n",
       "    }\n",
       "\n",
       "    .dataframe thead th {\n",
       "        text-align: right;\n",
       "    }\n",
       "</style>\n",
       "<table border=\"1\" class=\"dataframe\">\n",
       "  <thead>\n",
       "    <tr style=\"text-align: right;\">\n",
       "      <th></th>\n",
       "      <th>car_id</th>\n",
       "      <th>student_id</th>\n",
       "      <th>license</th>\n",
       "      <th>gender</th>\n",
       "      <th>grade</th>\n",
       "      <th>capacity</th>\n",
       "    </tr>\n",
       "  </thead>\n",
       "  <tbody>\n",
       "    <tr>\n",
       "      <th>20</th>\n",
       "      <td>5</td>\n",
       "      <td>4</td>\n",
       "      <td>0</td>\n",
       "      <td>1</td>\n",
       "      <td>1</td>\n",
       "      <td>5</td>\n",
       "    </tr>\n",
       "    <tr>\n",
       "      <th>21</th>\n",
       "      <td>5</td>\n",
       "      <td>6</td>\n",
       "      <td>0</td>\n",
       "      <td>0</td>\n",
       "      <td>3</td>\n",
       "      <td>5</td>\n",
       "    </tr>\n",
       "    <tr>\n",
       "      <th>22</th>\n",
       "      <td>5</td>\n",
       "      <td>9</td>\n",
       "      <td>1</td>\n",
       "      <td>0</td>\n",
       "      <td>2</td>\n",
       "      <td>5</td>\n",
       "    </tr>\n",
       "    <tr>\n",
       "      <th>23</th>\n",
       "      <td>5</td>\n",
       "      <td>11</td>\n",
       "      <td>0</td>\n",
       "      <td>1</td>\n",
       "      <td>4</td>\n",
       "      <td>5</td>\n",
       "    </tr>\n",
       "  </tbody>\n",
       "</table>\n",
       "</div>"
      ],
      "text/plain": [
       "    car_id  student_id  license  gender  grade  capacity\n",
       "20       5           4        0       1      1         5\n",
       "21       5           6        0       0      3         5\n",
       "22       5           9        1       0      2         5\n",
       "23       5          11        0       1      4         5"
      ]
     },
     "metadata": {},
     "output_type": "display_data"
    },
    {
     "name": "stdout",
     "output_type": "stream",
     "text": [
      "True\n"
     ]
    }
   ],
   "source": [
    "# 制約(3) 各車にドライバーが1人以上いるか\n",
    "for c in validation_df['car_id'].unique():\n",
    "    tmp_df = validation_df[validation_df['car_id']==c].copy()\n",
    "    display(tmp_df)\n",
    "    print(sum(tmp_df['license']) >= 1)\n",
    "    \n",
    "#### -> 所感: car_id 5 はどうにかした方がいいかもしれない。ドライバーが1人しかいない"
   ]
  },
  {
   "cell_type": "code",
   "execution_count": 36,
   "id": "915461bd",
   "metadata": {
    "ExecuteTime": {
     "end_time": "2023-01-13T08:30:26.239466Z",
     "start_time": "2023-01-13T08:30:26.227209Z"
    },
    "slideshow": {
     "slide_type": "subslide"
    }
   },
   "outputs": [
    {
     "data": {
      "text/plain": [
       "car_id\n",
       "0    True\n",
       "1    True\n",
       "2    True\n",
       "3    True\n",
       "4    True\n",
       "5    True\n",
       "Name: grade, dtype: bool"
      ]
     },
     "execution_count": 36,
     "metadata": {},
     "output_type": "execute_result"
    }
   ],
   "source": [
    "# 制約(4) 各車に各学年の学生を1人以上割り当てているか\n",
    "validation_df.groupby('car_id')['grade'].count() == 4"
   ]
  },
  {
   "cell_type": "code",
   "execution_count": 37,
   "id": "3552f595",
   "metadata": {
    "ExecuteTime": {
     "end_time": "2023-01-13T08:30:43.632011Z",
     "start_time": "2023-01-13T08:30:43.618902Z"
    },
    "slideshow": {
     "slide_type": "subslide"
    }
   },
   "outputs": [
    {
     "name": "stdout",
     "output_type": "stream",
     "text": [
      "True\n",
      "True\n",
      "True\n",
      "True\n",
      "True\n",
      "True\n"
     ]
    }
   ],
   "source": [
    "# 制約(4) 各車に各学年の学生を1人以上割り当てているか\n",
    "for c in validation_df['car_id'].unique():\n",
    "    tmp_df = validation_df[validation_df['car_id']==c].copy()\n",
    "    print(len(tmp_df['grade'].unique()) == 4)"
   ]
  },
  {
   "cell_type": "code",
   "execution_count": 38,
   "id": "da3289b3",
   "metadata": {
    "ExecuteTime": {
     "end_time": "2023-01-13T08:31:31.581280Z",
     "start_time": "2023-01-13T08:31:31.562074Z"
    },
    "slideshow": {
     "slide_type": "subslide"
    }
   },
   "outputs": [
    {
     "data": {
      "text/plain": [
       "car_id\n",
       "0    0.75\n",
       "1    0.50\n",
       "2    0.75\n",
       "3    0.50\n",
       "4    0.50\n",
       "5    0.50\n",
       "Name: gender, dtype: float64"
      ]
     },
     "execution_count": 38,
     "metadata": {},
     "output_type": "execute_result"
    }
   ],
   "source": [
    "# 制約（５）, (6) 男女1人ずつ以上いるか\n",
    "validation_df.groupby('car_id')['gender'].mean()"
   ]
  },
  {
   "cell_type": "code",
   "execution_count": 39,
   "id": "4f6a472d",
   "metadata": {
    "ExecuteTime": {
     "end_time": "2023-01-12T09:26:36.539302Z",
     "start_time": "2023-01-12T09:26:36.521897Z"
    },
    "slideshow": {
     "slide_type": "subslide"
    }
   },
   "outputs": [
    {
     "name": "stdout",
     "output_type": "stream",
     "text": [
      "True\n",
      "True\n",
      "True\n",
      "True\n",
      "True\n",
      "True\n"
     ]
    }
   ],
   "source": [
    "# 制約（５）, (6) 男女1人ずつ以上いるか\n",
    "for c in validation_df['car_id'].unique():\n",
    "    tmp_df = validation_df[validation_df['car_id']==c].copy()\n",
    "    print(tmp_df['gender'].nunique() == 2)"
   ]
  },
  {
   "cell_type": "markdown",
   "id": "5acd3679",
   "metadata": {
    "slideshow": {
     "slide_type": "slide"
    }
   },
   "source": [
    "# 最適化 API を作る"
   ]
  },
  {
   "cell_type": "markdown",
   "id": "c3c22cb1",
   "metadata": {
    "slideshow": {
     "slide_type": "fragment"
    }
   },
   "source": [
    "まずは要件定義  \n",
    "==> 何を作りたいのか明確にする  \n",
    "==> その後、その要件を達成するために API が備えるべき機能を考える（仕様）"
   ]
  },
  {
   "cell_type": "markdown",
   "id": "6094af06",
   "metadata": {
    "slideshow": {
     "slide_type": "subslide"
    }
   },
   "source": [
    "【要件】  \n",
    "API に学生データと車データを投げると、学生の乗車グループ分け問題を解いた結果を得られる。    \n",
    " \n",
    "【仕様】  \n",
    "・HTTP プロトコルによる API との通信   \n",
    "リクエスト(入力)：学生データ、車データの csv ファイル  \n",
    "レスポンス(出力)：最適化結果の csv ファイル  \n",
    "・最適化(グループ分け)を行うモジュールの作成が必要  "
   ]
  },
  {
   "cell_type": "markdown",
   "id": "03275f60",
   "metadata": {
    "slideshow": {
     "slide_type": "subslide"
    }
   },
   "source": [
    "上述のように、今回は Flask を使う。  \n",
    "==> HTTP 形式での通信を行う仕組みをほぼ自動で作成してくれる。   "
   ]
  },
  {
   "cell_type": "markdown",
   "id": "0dc5995f",
   "metadata": {
    "ExecuteTime": {
     "end_time": "2023-01-12T02:25:09.340267Z",
     "start_time": "2023-01-12T02:25:09.317784Z"
    },
    "slideshow": {
     "slide_type": "fragment"
    }
   },
   "source": [
    "今回作る必要がある要素  \n",
    "・リクエスト(入力)を受け付ける部分\n",
    "・最適化を行う部分  \n",
    "・レスポンス(出力)を返す部分  "
   ]
  },
  {
   "cell_type": "markdown",
   "id": "6197fc6a",
   "metadata": {
    "slideshow": {
     "slide_type": "subslide"
    }
   },
   "source": [
    "完成イメージコード\n",
    "\n",
    "```python\n",
    "def solve():\n",
    "    # 1. リクエスト受信\n",
    "    students_df, cars_df = preprocess(request)\n",
    "    # 2. 最適化実行\n",
    "    solution_df = CarGroupProblem(students_df, cars_df).solve()\n",
    "    # 3. レスポンス返送\n",
    "    response = postprocess(solution_df)\n",
    "    \n",
    "    return response\n",
    "```"
   ]
  },
  {
   "attachments": {},
   "cell_type": "markdown",
   "id": "740d4de3",
   "metadata": {
    "slideshow": {
     "slide_type": "subslide"
    }
   },
   "source": [
    "<div style=\"width:image width px; font-size:100%; text-align:center;\"><img src='img/API_case_study.png' alt=\"alternate text\" width=\"width\" height=\"height\" style=\"width:1300px;height:400px;\" /> 通信フローとファイルの関係性 </div>"
   ]
  },
  {
   "cell_type": "markdown",
   "id": "7184edfd",
   "metadata": {
    "ExecuteTime": {
     "end_time": "2023-01-12T02:48:31.419255Z",
     "start_time": "2023-01-12T02:48:31.394186Z"
    },
    "slideshow": {
     "slide_type": "notes"
    }
   },
   "source": [
    "apiの図。リクエストとしてcsvをもらい、それをサーバーに送り、サーバー側で最適化を実行。   \n",
    "出力として返ってきた結果をcsvのレスポンスとして送り返す仕組み"
   ]
  },
  {
   "cell_type": "markdown",
   "id": "73d85d79",
   "metadata": {
    "ExecuteTime": {
     "end_time": "2023-01-12T03:07:26.164852Z",
     "start_time": "2023-01-12T03:07:26.154648Z"
    },
    "slideshow": {
     "slide_type": "subslide"
    }
   },
   "source": [
    "まず最適化をするためのモジュールを作ろう。  \n",
    "- __init__() : クラスを用いてインスタンスを立てる際にインスタンスを初期化するコード\n",
    "- _formulate() ： 先頭に single underscore　があるメソッドは、非公開。　\n",
    "    - ”アンダースコアで始まる名前 (例えば _spam) は、 (関数であれメソッドであれデータメンバであれ) 非 public なAPIとして扱います。これらは、予告なく変更されるかもしれない実装の詳細として扱われるべきです。”\n",
    "    - [python のチュートリアル](https://docs.python.org/ja/3/tutorial/classes.html#private-variables)より引用"
   ]
  },
  {
   "cell_type": "markdown",
   "id": "33edbdb0",
   "metadata": {
    "ExecuteTime": {
     "end_time": "2023-01-12T03:07:26.164852Z",
     "start_time": "2023-01-12T03:07:26.154648Z"
    },
    "slideshow": {
     "slide_type": "subslide"
    }
   },
   "source": [
    "- if __name__ = '__main__' : モジュールとして import される場合でなく、py スクリプトファイルとして実行される場合のみ実行するという意味。  "
   ]
  },
  {
   "cell_type": "code",
   "execution_count": 40,
   "id": "9c5561d2",
   "metadata": {
    "ExecuteTime": {
     "end_time": "2023-01-12T09:26:36.632889Z",
     "start_time": "2023-01-12T09:26:36.542751Z"
    },
    "slideshow": {
     "slide_type": "subslide"
    }
   },
   "outputs": [
    {
     "name": "stdout",
     "output_type": "stream",
     "text": [
      "Solution: \n",
      "     student_id  car_id\n",
      "0            2       0\n",
      "1            5       0\n",
      "2            7       0\n",
      "3            8       0\n",
      "4           12       1\n",
      "5           15       1\n",
      "6           21       1\n",
      "7           22       1\n",
      "8           17       2\n",
      "9           18       2\n",
      "10          20       2\n",
      "11          23       2\n",
      "12          10       3\n",
      "13          13       3\n",
      "14          16       3\n",
      "15          19       3\n",
      "16           0       4\n",
      "17           1       4\n",
      "18           3       4\n",
      "19          14       4\n",
      "20           4       5\n",
      "21           6       5\n",
      "22           9       5\n",
      "23          11       5\n"
     ]
    }
   ],
   "source": [
    "import pandas as pd\n",
    "import pulp\n",
    "\n",
    "\n",
    "class CarGroupProblem():\n",
    "    \"\"\"学生の乗車グループ分け問題を解くクラス\"\"\"\n",
    "    def __init__(self, students_df, cars_df, name='ClubCarProblem'):\n",
    "        # 初期化メソッド\n",
    "        self.students_df = students_df\n",
    "        self.cars_df = cars_df\n",
    "        self.name = name\n",
    "        self.prob = self._formulate()\n",
    "\n",
    "    def _formulate(self):\n",
    "        # 学生の乗車グループ分け問題（0-1整数計画問題）のインスタンス作成\n",
    "        prob = pulp.LpProblem(self.name, pulp.LpMinimize)\n",
    "\n",
    "        # リスト\n",
    "        # 学生のリスト\n",
    "        S = self.students_df['student_id'].to_list()\n",
    "        # 車のリスト\n",
    "        C = self.cars_df['car_id'].to_list()\n",
    "        # 学年のリスト\n",
    "        G = [1, 2, 3, 4]\n",
    "        # 学生と車のペアのリスト\n",
    "        SC = [(s, c) for s in S for c in C]\n",
    "        # 免許を持っている学生のリスト\n",
    "        S_license = self.students_df[self.students_df['license'] == 1]['student_id']\n",
    "        # 学年が  g  の学生のリスト\n",
    "        S_g = {g: self.students_df[self.students_df['grade'] == g]['student_id'] for g in G}\n",
    "        # 男性と女性のリスト\n",
    "        S_male = self.students_df[self.students_df['gender'] == 0]['student_id']\n",
    "        S_female = self.students_df[self.students_df['gender'] == 1]['student_id']\n",
    "\n",
    "        # 定数\n",
    "        # 車の乗車定員\n",
    "        U = self.cars_df['capacity'].to_list()\n",
    "\n",
    "        # 変数\n",
    "        # 学生をどの車に割り当てるかを変数として定義\n",
    "        x = pulp.LpVariable.dicts('x', SC, cat='Binary')\n",
    "\n",
    "        # 制約\n",
    "        # (1) 各学生を１つの車に割り当てる\n",
    "        for s in S:\n",
    "            prob += pulp.lpSum([x[s, c] for c in C]) == 1\n",
    "\n",
    "        # (2) 法規制に関する制約：各車には乗車定員より多く乗ることができない\n",
    "        for c in C:\n",
    "            prob += pulp.lpSum([x[s, c] for s in S]) <= U[c]\n",
    "\n",
    "        # (3) 法規制に関する制約：各車にドライバーを1人以上割り当てる\n",
    "        for c in C:\n",
    "            prob += pulp.lpSum([x[s, c] for s in S_license]) >= 1\n",
    "\n",
    "        # (4) 懇親を目的とした制約: 各車に各学年の学生を１人以上割り当てる\n",
    "        for c in C:\n",
    "            for g in G:\n",
    "                prob += pulp.lpSum([x[s, c] for s in S_g[g]]) >= 1\n",
    "\n",
    "        # (5) 各車に男性を1人以上割り当てる\n",
    "        for c in C:\n",
    "            prob += pulp.lpSum([x[s, c] for s in S_male]) >= 1\n",
    "\n",
    "        # (6) 各車に女性を1人以上割り当てる\n",
    "        for c in C:\n",
    "            prob += pulp.lpSum([x[s, c] for s in S_female]) >= 1\n",
    "\n",
    "        # 最適化後に利用するデータを返却\n",
    "        return {'prob': prob, 'variable': {'x': x}, 'list': {'S': S, 'C': C}}\n",
    "\n",
    "    def solve(self):\n",
    "        # 最適化問題を解くメソッド\n",
    "        # 問題を解く\n",
    "        solver = pulp.SCIP()\n",
    "        status = self.prob['prob'].solve(solver)\n",
    "\n",
    "        # 最適化結果を格納\n",
    "        x = self.prob['variable']['x']\n",
    "        S = self.prob['list']['S']\n",
    "        C = self.prob['list']['C']\n",
    "        car2students = {c: [s for s in S if x[s, c].value() == 1] for c in C}\n",
    "        student2car = {s: c for c, ss in car2students.items() for s in ss}\n",
    "        solution_df = pd.DataFrame(list(student2car.items()), columns=['student_id', 'car_id'])\n",
    "\n",
    "        return solution_df\n",
    "\n",
    "\n",
    "if __name__ == '__main__':\n",
    "    # データの読み込み\n",
    "    students_df = pd.read_csv('../PyOptBook-main/6.api/resource/students.csv')\n",
    "    cars_df = pd.read_csv('../PyOptBook-main/6.api/resource/cars.csv')\n",
    "\n",
    "    # 数理モデル インスタンスの作成\n",
    "    prob = CarGroupProblem(students_df, cars_df)\n",
    "\n",
    "    # 問題を解く\n",
    "    solution_df = prob.solve()\n",
    "\n",
    "    # 結果の表示\n",
    "    print('Solution: \\n', solution_df)\n"
   ]
  },
  {
   "cell_type": "markdown",
   "id": "3fa5f41c",
   "metadata": {
    "slideshow": {
     "slide_type": "subslide"
    }
   },
   "source": [
    "## Flask を使った API 作成\n",
    "実際に Flask で API を作ってみよう。まずはコードの全体像を確認する"
   ]
  },
  {
   "cell_type": "markdown",
   "id": "8d0f956a",
   "metadata": {
    "ExecuteTime": {
     "end_time": "2023-01-12T03:37:08.817810Z",
     "start_time": "2023-01-12T03:37:08.421713Z"
    },
    "slideshow": {
     "slide_type": "subslide"
    }
   },
   "source": [
    "```python\n",
    "# 必要なライブラリのインポート\n",
    "from flask import Flask, request\n",
    "from problem import CarGroupProblem\n",
    "\n",
    "# Flask のアプリケーションを作成\n",
    "app = Flask(__name__)\n",
    "```"
   ]
  },
  {
   "cell_type": "markdown",
   "id": "111824cb",
   "metadata": {
    "ExecuteTime": {
     "end_time": "2023-01-12T03:37:08.817810Z",
     "start_time": "2023-01-12T03:37:08.421713Z"
    },
    "slideshow": {
     "slide_type": "subslide"
    }
   },
   "source": [
    "```python\n",
    "# 最適化問題を解く API 用の関数\n",
    "@app.route('api/', methods=['POST'])\n",
    "def solve():\n",
    "    # 1. リクエスト受信\n",
    "    students_df, cars_df = preprocess(request)\n",
    "    # 2. 最適化実行\n",
    "    solution_df = CarGroupProblem(students_df, cars_df).solve()\n",
    "    # 3. レスポンス返送\n",
    "    response = postprocess(solution_df)\n",
    "    return response\n",
    "```"
   ]
  },
  {
   "cell_type": "markdown",
   "id": "cc340c9f",
   "metadata": {
    "slideshow": {
     "slide_type": "subslide"
    }
   },
   "source": [
    "少しコードを付け足すだけで Flask を実行できちゃう！お手軽！"
   ]
  },
  {
   "cell_type": "markdown",
   "id": "5eed4b36",
   "metadata": {
    "slideshow": {
     "slide_type": "subslide"
    }
   },
   "source": [
    "\n",
    "```python\n",
    "Flask(__name__)\n",
    "```\n",
    "とは何？\n",
    "```python\n",
    "@app.route('api/', methods=['POST'])\n",
    "```\n",
    "って？"
   ]
  },
  {
   "cell_type": "markdown",
   "id": "5b4616fb",
   "metadata": {
    "slideshow": {
     "slide_type": "subslide"
    }
   },
   "source": [
    "- `Flask(__name__)` は Flask のクラスのインスタンスを作成する。   \n",
    "    - このインスタンスが API や Web アプリケーションを管理するさまざまな役割を持つ"
   ]
  },
  {
   "cell_type": "markdown",
   "id": "ac90de7a",
   "metadata": {
    "slideshow": {
     "slide_type": "subslide"
    }
   },
   "source": [
    "- `@...` は デコレータ\n",
    "    - 関数の直前に書くことで、関数を修飾してくれるという特殊な関数。\n",
    "    ```python\n",
    "    def deco(func):\n",
    "    def wrapper(*args, **kwargs):\n",
    "        print('--start--')\n",
    "        func(*args, **kwargs)\n",
    "        print('--end--')\n",
    "    return wrapper\n",
    "\n",
    "    @deco\n",
    "    def test():\n",
    "        print('Hello Decorator')\n",
    "    ```"
   ]
  },
  {
   "cell_type": "markdown",
   "id": "bc615ecc",
   "metadata": {
    "slideshow": {
     "slide_type": "subslide"
    }
   },
   "source": [
    "- 以下が`test()`の出力  \n",
    "    > --start--  \n",
    "    > Hello Decorator  \n",
    "    > --end--  \n",
    "- [Pythonのデコレータについて](https://qiita.com/mtb_beta/items/d257519b018b8cd0cc2e)より引用"
   ]
  },
  {
   "cell_type": "markdown",
   "id": "04eebe65",
   "metadata": {
    "slideshow": {
     "slide_type": "subslide"
    }
   },
   "source": [
    "- @app.route は何をやっているの？\n",
    "    - 「API サーバーの /api エンドポイント(URL) に対する、POST リクエストを受け付けた際に、@app.route で修飾する関数(solve())を実行してね」というデコレータ\n",
    "    - 要するに、どこかの URL (自分で設定する末尾が'/api'の URL) で POST というリクエストを受けた時に、solve() を実行する\n",
    "    - URL と solve() のように、特定の URL と関数を紐付ける機能を一般に**ルーティング**という\n",
    "- POST とは？\n",
    "    - 一般に情報の送信を表す。\n",
    "    - 恐らく、要するに solve() へ情報を渡すためにどうにかして使われる？"
   ]
  },
  {
   "cell_type": "markdown",
   "id": "e1cedea5",
   "metadata": {
    "slideshow": {
     "slide_type": "subslide"
    }
   },
   "source": [
    "リクエスト受信の部分のコード、`preprocess()` を確認しよう"
   ]
  },
  {
   "cell_type": "markdown",
   "id": "e1b41ec2",
   "metadata": {
    "slideshow": {
     "slide_type": "subslide"
    }
   },
   "source": [
    "```python\n",
    "def preprocess(request):\n",
    "    \"\"\"リクエストデータを受け取り、データフレームに変換する関数\"\"\"\n",
    "    # 各ファイルを取得する\n",
    "    students = request.files['students']\n",
    "    cars = request.files['cars']\n",
    "    # pandas で読み込む\n",
    "    students_df = pd.read_csv(students)\n",
    "    cars_df = pd.read_csv(cars)\n",
    "    \n",
    "    return students_df, cars_df\n",
    "    \n",
    "```"
   ]
  },
  {
   "cell_type": "markdown",
   "id": "5a1c2d29",
   "metadata": {
    "slideshow": {
     "slide_type": "subslide"
    }
   },
   "source": [
    "- 引数 request：Flask で出力されるオブジェクト\n",
    "    - POST メソッドでリクエストが投げられた時は, request の属性（request.files）にデータが格納される。"
   ]
  },
  {
   "cell_type": "markdown",
   "id": "19628a49",
   "metadata": {
    "slideshow": {
     "slide_type": "subslide"
    }
   },
   "source": [
    "後処理部分の関数、 `postprocess()` を確認しよう"
   ]
  },
  {
   "cell_type": "markdown",
   "id": "b4ecadf3",
   "metadata": {
    "slideshow": {
     "slide_type": "subslide"
    }
   },
   "source": [
    "```python\n",
    "def postprocess(solution_df):\n",
    "    \"\"\"データフレームを csv に変換する関数\"\"\"\n",
    "    solution_csv = solution_df.to_csv(index=False)\n",
    "    response = make_response()\n",
    "    response.data = solution_csv\n",
    "    response.headers['Content-Type'] = 'text/csv'\n",
    "    return response\n",
    "```"
   ]
  },
  {
   "cell_type": "markdown",
   "id": "f4c0940f",
   "metadata": {
    "slideshow": {
     "slide_type": "subslide"
    }
   },
   "source": [
    "- このコードは最適化の結果(df)をcsvに変換し、Flask によってレスポンスとして出力している\n",
    "    - `make_response()` が自動的にリクエスト元へレスポンスを返してくれている\n",
    "- `make_response()` 関数で作成したオブジェクトにデータとヘッダー情報を格納\n",
    "    - `response.data`, `response.headers['Content-Type']`"
   ]
  },
  {
   "cell_type": "markdown",
   "id": "c02687de",
   "metadata": {
    "slideshow": {
     "slide_type": "subslide"
    }
   },
   "source": [
    "API 作成完了！コードを眺めよう"
   ]
  },
  {
   "cell_type": "code",
   "execution_count": 41,
   "id": "b07e3456",
   "metadata": {
    "ExecuteTime": {
     "end_time": "2023-01-12T09:26:37.039381Z",
     "start_time": "2023-01-12T09:26:36.645948Z"
    },
    "slideshow": {
     "slide_type": "subslide"
    }
   },
   "outputs": [],
   "source": [
    "\"\"\"最適化問題を解き、最適化結果を返す API \"\"\"\n",
    "from flask import Flask, make_response, request\n",
    "import pandas as pd\n",
    "\n",
    "from problem import CarGroupProblem\n",
    "\n",
    "\n",
    "app = Flask(__name__)\n",
    "\n",
    "def preprocess(request):\n",
    "    \"\"\"リクエストデータを受け取り、データフレームに変換する関数\"\"\"\n",
    "    # 各ファイルを取得する\n",
    "    students = request.files['students']\n",
    "    cars = request.files['cars']\n",
    "    # pandas で読み込む\n",
    "    students_df = pd.read_csv(students)\n",
    "    cars_df = pd.read_csv(cars)\n",
    "    return students_df, cars_df\n",
    "\n",
    "def postprocess(solution_df):\n",
    "    \"\"\"データフレームを csv に変換する関数\"\"\"\n",
    "    solution_csv = solution_df.to_csv(index=False)\n",
    "    response = make_response()\n",
    "    response.data = solution_df\n",
    "    response.headers['Content-Type'] = 'text/csv'\n",
    "    return response\n",
    "\n",
    "@app.route('/api', methods=['POST'])\n",
    "def solve():\n",
    "    \"\"\"最適化問題を解く API 用の関数\"\"\"\n",
    "    # 1. リクエスト受信\n",
    "    students_df, cars_df = preprocess(request)\n",
    "    # 2. 最適化実行\n",
    "    solution_df = CarGroupProblem(students_df, cars_df).solve()\n",
    "    # 3. レスポンス返送\n",
    "    response = postprocess(solution_df)\n",
    "    return response"
   ]
  },
  {
   "cell_type": "markdown",
   "id": "dd217dbd",
   "metadata": {
    "slideshow": {
     "slide_type": "subslide"
    }
   },
   "source": [
    "## 最適化 API の使用"
   ]
  },
  {
   "cell_type": "markdown",
   "id": "dbbec636",
   "metadata": {
    "slideshow": {
     "slide_type": "subslide"
    }
   },
   "source": [
    "実際に API を起動してみる。  \n",
    "(Mac) ターミナルを開いて以下のコードを実行する。  \n",
    "```shell\n",
    "export FLASK_DEBUG=TRUE\n",
    "export FLASK_APP=api:app\n",
    "flask run\n",
    "```\n",
    "＊ FLASK_ENV コマンドは deprecated らしいので、FLASK_DEBUG に変更。"
   ]
  },
  {
   "cell_type": "markdown",
   "id": "b96b3612",
   "metadata": {
    "slideshow": {
     "slide_type": "subslide"
    }
   },
   "source": [
    "すると、ターミナル上で以下のような出力がされるはず\n",
    ">  \\* Serving Flask app 'api:app'  \n",
    ">  \\* Debug mode: on  \n",
    "> WARNING: This is a development server. Do not use it in a production deployment. Use a production WSGI server instead.  \n",
    ">  \\* Running on http://127.0.0.1:5000  \n",
    "> Press CTRL+C to quit  \n",
    ">  \\* Restarting with stat  \n",
    ">  \\* Debugger is active!  \n",
    ">  \\* Debugger PIN: 119-491-275  "
   ]
  },
  {
   "cell_type": "markdown",
   "id": "6b422884",
   "metadata": {
    "slideshow": {
     "slide_type": "subslide"
    }
   },
   "source": [
    "そうしたらターミナルの別ウィンドウで、以下を入力\n",
    "```shell\n",
    "curl -X POST \\\n",
    "-F students=@resource/students.csv \\\n",
    "-F cars=@resource/cars.csv \\\n",
    "-o resource/solution.csv \\\n",
    "http://127.0.0.1:5000/api\n",
    "```"
   ]
  },
  {
   "cell_type": "markdown",
   "id": "7cdee6f7",
   "metadata": {
    "slideshow": {
     "slide_type": "subslide"
    }
   },
   "source": [
    "すると以下の出力が、flask run を実行したウィンドウ上で追加されるはず\n",
    "> ......  \n",
    "> 127.0.0.1 - - [12/Jan/2023 17:51:12] \"POST / HTTP/1.1\" 200 -\n",
    "\n",
    "日時の部分は変わるはず。一番最後の 200 は、ステータスコード。もしここが異なっていれば、solution.csv を確認してみると良いかも。"
   ]
  },
  {
   "cell_type": "markdown",
   "id": "905864df",
   "metadata": {
    "slideshow": {
     "slide_type": "subslide"
    }
   },
   "source": [
    "リクエストを`curl` コマンドでなく、python のコマンドで送ることも可能。"
   ]
  },
  {
   "cell_type": "markdown",
   "id": "b96929f5",
   "metadata": {
    "ExecuteTime": {
     "end_time": "2023-01-12T09:26:37.275897Z",
     "start_time": "2023-01-12T09:26:37.042607Z"
    },
    "slideshow": {
     "slide_type": "subslide"
    }
   },
   "source": [
    "```python\n",
    "import requests\n",
    "\n",
    "# API のエンドポイント\n",
    "url = 'http://127.0.0.1:5000/api'\n",
    "# リクエストで渡すデータ\n",
    "files = {\n",
    "    'students': open('../PyOptBook-main/6.api/resource/students.csv', 'r'),\n",
    "    'cars': open('../PyOptBook-main/6.api/resource/cars.csv', 'r')\n",
    "}\n",
    "# POST リクエスト\n",
    "response = requests.post(url, files=files)\n",
    "# 結果の保存（`response.text`でレスポンス内容にアクセス可能）\n",
    "with open('../PyOptBook-main/6.api/resource/solution_requests.csv', 'w') as f:\n",
    "    f.write(response.text)\n",
    "```"
   ]
  },
  {
   "cell_type": "markdown",
   "id": "24a346a2",
   "metadata": {
    "slideshow": {
     "slide_type": "slide"
    }
   },
   "source": [
    "# Web アプリケーションを作る"
   ]
  },
  {
   "cell_type": "markdown",
   "id": "4260e20e",
   "metadata": {
    "slideshow": {
     "slide_type": "fragment"
    }
   },
   "source": [
    "UI (特に、Web ブラウザで表示される画面)を作り、Web アプリケーションを構築しよう！  \n",
    "今回の目的は綺麗な見た目のサイトを作ることではなく、フロントエンジニアにイメージを持ってもらうことなので、html のみで作成する。"
   ]
  },
  {
   "cell_type": "markdown",
   "id": "ac71623f",
   "metadata": {
    "slideshow": {
     "slide_type": "subslide"
    }
   },
   "source": [
    "【要件】  \n",
    "- ブラウザから特定の URL にアクセスする  \n",
    "- 学生データと車データをアップロードする\n",
    "- ==> 学生の乗車グループ分けの最適化結果がダウンロードできる"
   ]
  },
  {
   "cell_type": "markdown",
   "id": "be47d422",
   "metadata": {
    "slideshow": {
     "slide_type": "fragment"
    }
   },
   "source": [
    "【仕様】  \n",
    "- HTTP プロトコルによる Web サーバーとの通信ができる\n",
    "- トップページで csv ファイルをアップロードできる\n",
    "- 最適化後のページで結果を表示し、csv ファイルのダウンロードができる"
   ]
  },
  {
   "cell_type": "markdown",
   "id": "e982510d",
   "metadata": {
    "slideshow": {
     "slide_type": "subslide"
    }
   },
   "source": [
    "学生と車のデータをターミナルを使わないでアップロードできる様になるので、プログラマ以外でも利用しやすい API になる！"
   ]
  },
  {
   "cell_type": "markdown",
   "id": "b4ee89f1",
   "metadata": {
    "slideshow": {
     "slide_type": "fragment"
    }
   },
   "source": [
    "今回は Web ブラウザを構築するのに、HTML ファイルを扱う。"
   ]
  },
  {
   "attachments": {},
   "cell_type": "markdown",
   "id": "7d3b1058",
   "metadata": {
    "slideshow": {
     "slide_type": "subslide"
    }
   },
   "source": [
    "<div style=\"width:image width px; font-size:100%; text-align:center;\"><img src='img/WebApplication_case.png' alt=\"alternate text\" width=\"width\" height=\"height\" style=\"width:800px;height:640px;\" /> Web アプリケーションのリクエストとレスポンス </div>"
   ]
  },
  {
   "cell_type": "markdown",
   "id": "8660db94",
   "metadata": {
    "slideshow": {
     "slide_type": "notes"
    }
   },
   "source": [
    "三つのリクエストと、三つのレスポンス"
   ]
  },
  {
   "cell_type": "markdown",
   "id": "232329a2",
   "metadata": {
    "slideshow": {
     "slide_type": "subslide"
    }
   },
   "source": [
    "**Flask を使った Web アプリケーションの学習**  \n",
    "実装するコード(application.py)の全体像を見てみる。"
   ]
  },
  {
   "cell_type": "code",
   "execution_count": 42,
   "id": "3c646285",
   "metadata": {
    "ExecuteTime": {
     "end_time": "2023-01-12T11:03:59.551184Z",
     "start_time": "2023-01-12T11:03:59.444578Z"
    },
    "slideshow": {
     "slide_type": "subslide"
    }
   },
   "outputs": [],
   "source": [
    "from flask import Flask, redirect, render_template, request\n",
    "from problem import CarGroupProblem\n",
    "\n",
    "\n",
    "app = Flask(__name__)\n",
    "\n",
    "@app.route('/', methods=['GET', 'POST'])\n",
    "def solve():\n",
    "    # トップページを表示する（GET リクエストが来た場合）\n",
    "    if request.method == 'GET':\n",
    "        return render_template('index.html', solution_html=None)\n",
    "\n",
    "    # POSTリクエストである「最適化を実行」ボタンが押された場合に実行\n",
    "    # データがアップロードされているかチェックする。適切でなければ元のページ（トップページ）に戻る\n",
    "    if not check_request(request):\n",
    "        return redirect(request.url)\n",
    "\n",
    "    # 前処理（データ読み込み）\n",
    "    students_df, cars_df = preprocess(request)\n",
    "    # 最適化実行\n",
    "    solution_df = CarGroupProblem(students_df, cars_df).solve()\n",
    "    # 後処理（最適化結果をHTMLに表示できる形式にする）\n",
    "    solution_html = postprocess(solution_df)\n",
    "    return render_template('index.html', solution_html=solution_html)"
   ]
  },
  {
   "cell_type": "markdown",
   "id": "d017c5dc",
   "metadata": {
    "slideshow": {
     "slide_type": "subslide"
    }
   },
   "source": [
    "API との大きな変更点は、\n",
    "1. methods= に GET が追加\n",
    "2. リクエスト内容のチェック（chekc_request()関数）\n",
    "3. 返り値を最適化結果の csv データではなく、render_template() 関数に変更\n",
    "    - --> HTML ファイルを**レンダリング**（HTMLファイルなどに含まれるデータを解釈しどの様に画面表示するのか決める処理）する"
   ]
  },
  {
   "cell_type": "markdown",
   "id": "aef14b95",
   "metadata": {
    "slideshow": {
     "slide_type": "subslide"
    }
   },
   "source": [
    "## GET メソッドの追加"
   ]
  },
  {
   "cell_type": "markdown",
   "id": "f833246c",
   "metadata": {
    "slideshow": {
     "slide_type": "fragment"
    }
   },
   "source": [
    "トップページを取得・表示する  \n",
    "POST と GET を、if 文を使うことによって一つの関数の中にまとめているが、これを二つの関数（ルーティング）に分割することも可能"
   ]
  },
  {
   "cell_type": "markdown",
   "id": "4bac23c1",
   "metadata": {
    "slideshow": {
     "slide_type": "subslide"
    }
   },
   "source": [
    "## GET リクエストが来たらトップページを表示する"
   ]
  },
  {
   "cell_type": "markdown",
   "id": "78d44100",
   "metadata": {
    "slideshow": {
     "slide_type": "fragment"
    }
   },
   "source": [
    "solve() の直後に `if request.methods == 'GET'` を置くことで、Web アプリケーションに初めてアクセスした時にトップページを返すという処理(render_template())を行う仕様に。"
   ]
  },
  {
   "cell_type": "markdown",
   "id": "158a73bf",
   "metadata": {
    "slideshow": {
     "slide_type": "subslide"
    }
   },
   "source": [
    "## リクエスト内容のチェック"
   ]
  },
  {
   "cell_type": "markdown",
   "id": "95d207ea",
   "metadata": {
    "slideshow": {
     "slide_type": "fragment"
    }
   },
   "source": [
    "適切なデータがアップロードされているか確かめる。   \n",
    "check_request(request) は、 POST リクエストが入力された、つまり「最適化を実行」ボタンが押された時に（後に実装する）、データ内容を確認するコード。   \n",
    "もしファイルをアップロードせずに実行ボタンが押された際には、リクエストを投げた時点で表示していたページに戻る（**リダイレクト**）仕様にしている。"
   ]
  },
  {
   "cell_type": "markdown",
   "id": "6b563530",
   "metadata": {
    "slideshow": {
     "slide_type": "subslide"
    }
   },
   "source": [
    "他の変更点を二つ挙げる。"
   ]
  },
  {
   "cell_type": "markdown",
   "id": "4e739cdc",
   "metadata": {
    "slideshow": {
     "slide_type": "subslide"
    }
   },
   "source": [
    "## 最適化結果を HTML で表示できる形式にする"
   ]
  },
  {
   "cell_type": "markdown",
   "id": "637d7faa",
   "metadata": {
    "slideshow": {
     "slide_type": "fragment"
    }
   },
   "source": [
    "postprocess() 関数で、templates/ フォルダに作成する solution_html を出力する様にする。"
   ]
  },
  {
   "cell_type": "markdown",
   "id": "5dfdff37",
   "metadata": {
    "slideshow": {
     "slide_type": "subslide"
    }
   },
   "source": [
    "## render_template() 関数"
   ]
  },
  {
   "cell_type": "markdown",
   "id": "b05de6fa",
   "metadata": {
    "slideshow": {
     "slide_type": "fragment"
    }
   },
   "source": [
    "index.html を元に、web ページを表示させる"
   ]
  },
  {
   "cell_type": "markdown",
   "id": "1ecea3b9",
   "metadata": {
    "slideshow": {
     "slide_type": "subslide"
    }
   },
   "source": [
    "では、index.html はどの様に作るの？  \n",
    "--> 詳しくは教科書を確認してみてください"
   ]
  },
  {
   "cell_type": "markdown",
   "id": "d24793e3",
   "metadata": {
    "slideshow": {
     "slide_type": "subslide"
    }
   },
   "source": [
    "```html\n",
    "<!DOCTYPE html>\n",
    "<!-- 1. ファイルを選択、最適化を実行 -->\n",
    "<title>学生の乗車グループ分け問題</title>\n",
    "<h1>学生の乗車グループ分け問題</h1>\n",
    "<form action=\"/\" method=post enctype=multipart/form-data>\n",
    "    <p>学生データ<input type=file name=students></p>\n",
    "    <p>車データ<input type=file name=cars></p>\n",
    "    <input type=submit value=最適化を実行>\n",
    "</form>\n",
    "\n",
    "<!-- 2. 最適化結果をダウンロード、最適化結果を表示 -->\n",
    "{% if solution_html %}\n",
    "    <h1>最適化結果</h1>\n",
    "    <!-- 最適化結果をcsv形式でダウンロード -->\n",
    "    <form name=download action=\"/download\" method=post enctype=multipart/form-data>\n",
    "        <input type=hidden name=solution_html value=\"{{ solution_html }}\">\n",
    "        <p><input type=submit value=ダウンロード></p>\n",
    "    </form>  \n",
    "\n",
    "    <!-- 最適化結果を表示 -->\n",
    "    {{ solution_html|safe }}\n",
    "{% endif %}\n",
    "```"
   ]
  },
  {
   "cell_type": "markdown",
   "id": "bceed5c5",
   "metadata": {
    "slideshow": {
     "slide_type": "subslide"
    }
   },
   "source": [
    "## check_request()"
   ]
  },
  {
   "cell_type": "markdown",
   "id": "e8977e9d",
   "metadata": {
    "slideshow": {
     "slide_type": "fragment"
    }
   },
   "source": [
    "index.html と Flask による Web アプリケーションのコードを結びつけるための関数を実装する"
   ]
  },
  {
   "cell_type": "code",
   "execution_count": 43,
   "id": "90fe281a",
   "metadata": {
    "slideshow": {
     "slide_type": "subslide"
    }
   },
   "outputs": [],
   "source": [
    "def check_request(request):\n",
    "    \"\"\"リクエストに学生データと車データが含まれているか確認する関数\"\"\"\n",
    "    # 各ファイルを取得する\n",
    "    students = request.files['students']\n",
    "    cars = request.files['cars']\n",
    "\n",
    "    # ファイルが選択されているか確認\n",
    "    if students.filename == '':\n",
    "        # 学生データが選ばれていません\n",
    "        return False\n",
    "    if cars.filename == '':\n",
    "        # 車データが選ばれていません\n",
    "        return False\n",
    "\n",
    "    return True"
   ]
  },
  {
   "cell_type": "markdown",
   "id": "c70ebc19",
   "metadata": {
    "slideshow": {
     "slide_type": "subslide"
    }
   },
   "source": [
    "## リクエストデータを受け取り、df に"
   ]
  },
  {
   "cell_type": "code",
   "execution_count": 44,
   "id": "74331a6b",
   "metadata": {
    "ExecuteTime": {
     "end_time": "2023-01-12T12:50:40.195808Z",
     "start_time": "2023-01-12T12:50:40.180656Z"
    },
    "slideshow": {
     "slide_type": "fragment"
    }
   },
   "outputs": [],
   "source": [
    "def preprocess(request):\n",
    "    \"\"\"リクエストデータを受け取り、データフレームに変換する関数\"\"\"\n",
    "    # 各ファイルを取得する\n",
    "    students = request.files['students']\n",
    "    cars = request.files['cars']\n",
    "    # pandas で読み込む\n",
    "    students_df = pd.read_csv(students)\n",
    "    cars_df = pd.read_csv(cars)\n",
    "\n",
    "    return students_df, cars_df"
   ]
  },
  {
   "cell_type": "markdown",
   "id": "076044a8",
   "metadata": {
    "slideshow": {
     "slide_type": "subslide"
    }
   },
   "source": [
    "## 最適化結果を HTML 形式に"
   ]
  },
  {
   "cell_type": "code",
   "execution_count": 45,
   "id": "06742635",
   "metadata": {
    "ExecuteTime": {
     "end_time": "2023-01-12T12:51:45.392188Z",
     "start_time": "2023-01-12T12:51:45.385921Z"
    },
    "slideshow": {
     "slide_type": "fragment"
    }
   },
   "outputs": [],
   "source": [
    "def postprocess(solution_df):\n",
    "    \"\"\"最適化結果をHTML形式に変換する関数\"\"\"\n",
    "    solution_html = solution_df.to_html(header=True, index=False)\n",
    "    return solution_html"
   ]
  },
  {
   "cell_type": "markdown",
   "id": "7a6fa8e4",
   "metadata": {
    "slideshow": {
     "slide_type": "subslide"
    }
   },
   "source": [
    "## 最適化の実行と結果の表示を行う関数"
   ]
  },
  {
   "cell_type": "markdown",
   "id": "eb89a7ee",
   "metadata": {
    "ExecuteTime": {
     "end_time": "2023-01-12T12:52:29.596313Z",
     "start_time": "2023-01-12T12:52:29.260941Z"
    },
    "slideshow": {
     "slide_type": "subslide"
    }
   },
   "source": [
    "```python\n",
    "@app.route('/', methods=['GET', 'POST'])\n",
    "def solve():\n",
    "    \"\"\"最適化の実行と結果の表示を行う関数\"\"\"\n",
    "    # トップページを表示する（GETリクエストがきた場合）\n",
    "    if request.method == 'GET':\n",
    "        return render_template('index.html', solution_html=None)\n",
    "\n",
    "    # POSTリクエストである「最適化を実行」ボタンが押された場合に実行\n",
    "    # データがアップロードされているかチェックする。適切でなければ元のページ（トップページ）に戻る\n",
    "    if not check_request(request):\n",
    "        return redirect(request.url)\n",
    "\n",
    "    # 前処理（データ読み込み）\n",
    "    students_df, cars_df = preprocess(request)\n",
    "    # 最適化実行\n",
    "    solution_df = CarGroupProblem(students_df, cars_df).solve()\n",
    "    # 後処理（最適化結果をHTMLに表示できる形式にする）\n",
    "    solution_html = postprocess(solution_df)\n",
    "    return render_template('index.html', solution_html=solution_html)\n",
    "```"
   ]
  },
  {
   "cell_type": "markdown",
   "id": "1825d1ae",
   "metadata": {
    "slideshow": {
     "slide_type": "subslide"
    }
   },
   "source": [
    "## 最適化表示結果を csv に変換してダウンロードする関数"
   ]
  },
  {
   "cell_type": "markdown",
   "id": "ec01516e",
   "metadata": {
    "slideshow": {
     "slide_type": "subslide"
    }
   },
   "source": [
    "```python\n",
    "@app.route('/download', methods=['POST'])\n",
    "def download():\n",
    "    \"\"\"リクエストに含まれるHTMLの表形式データをcsv形式に変換してダウンロードする関数\"\"\"\n",
    "    solution_html = request.form.get('solution_html')\n",
    "    solution_df = pd.read_html(solution_html)[0]\n",
    "    solution_csv = solution_df.to_csv(index=False)\n",
    "    response = make_response()\n",
    "    response.data = solution_csv\n",
    "    response.headers['Content-Type'] = 'text/csv'\n",
    "    response.headers['Content-Disposition'] = 'attachment; filename=solution.csv'\n",
    "    return response\n",
    "```"
   ]
  },
  {
   "cell_type": "markdown",
   "id": "d678a329",
   "metadata": {
    "slideshow": {
     "slide_type": "subslide"
    }
   },
   "source": [
    "## まとめると"
   ]
  },
  {
   "cell_type": "markdown",
   "id": "c54ff12b",
   "metadata": {
    "slideshow": {
     "slide_type": "subslide"
    }
   },
   "source": [
    "```python\n",
    "\"\"\"最適化を解く Webアプリケーション\"\"\"\n",
    "from flask import Flask, make_response, redirect, render_template, request\n",
    "import pandas as pd\n",
    "from problem import CarGroupProblem\n",
    "\n",
    "\n",
    "app = Flask(__name__)\n",
    "\n",
    "\n",
    "def check_request(request):\n",
    "    \"\"\"リクエストに学生データと車データが含まれているか確認する関数\"\"\"\n",
    "    # 各ファイルを取得する\n",
    "    students = request.files['students']\n",
    "    cars = request.files['cars']\n",
    "\n",
    "    # ファイルが選択されているか確認\n",
    "    if students.filename == '':\n",
    "        # 学生データが選ばれていません\n",
    "        return False\n",
    "    if cars.filename == '':\n",
    "        # 車データが選ばれていません\n",
    "        return False\n",
    "\n",
    "    return True\n",
    "\n",
    "\n",
    "def preprocess(request):\n",
    "    \"\"\"リクエストデータを受け取り、データフレームに変換する関数\"\"\"\n",
    "    # 各ファイルを取得する\n",
    "    students = request.files['students']\n",
    "    cars = request.files['cars']\n",
    "    # pandas で読み込む\n",
    "    students_df = pd.read_csv(students)\n",
    "    cars_df = pd.read_csv(cars)\n",
    "\n",
    "    return students_df, cars_df\n",
    "\n",
    "\n",
    "def postprocess(solution_df):\n",
    "    \"\"\"最適化結果をHTML形式に変換する関数\"\"\"\n",
    "    solution_html = solution_df.to_html(header=True, index=False)\n",
    "    return solution_html\n",
    "\n",
    "\n",
    "@app.route('/', methods=['GET', 'POST'])\n",
    "def solve():\n",
    "    \"\"\"最適化の実行と結果の表示を行う関数\"\"\"\n",
    "    # トップページを表示する（GETリクエストがきた場合）\n",
    "    if request.method == 'GET':\n",
    "        return render_template('index.html', solution_html=None)\n",
    "\n",
    "    # POSTリクエストである「最適化を実行」ボタンが押された場合に実行\n",
    "    # データがアップロードされているかチェックする。適切でなければ元のページ（トップページ）に戻る\n",
    "    if not check_request(request):\n",
    "        return redirect(request.url)\n",
    "\n",
    "    # 前処理（データ読み込み）\n",
    "    students_df, cars_df = preprocess(request)\n",
    "    # 最適化実行\n",
    "    solution_df = CarGroupProblem(students_df, cars_df).solve()\n",
    "    # 後処理（最適化結果をHTMLに表示できる形式にする）\n",
    "    solution_html = postprocess(solution_df)\n",
    "    return render_template('index.html', solution_html=solution_html)\n",
    "\n",
    "\n",
    "@app.route('/download', methods=['POST'])\n",
    "def download():\n",
    "    \"\"\"リクエストに含まれるHTMLの表形式データをcsv形式に変換してダウンロードする関数\"\"\"\n",
    "    solution_html = request.form.get('solution_html')\n",
    "    solution_df = pd.read_html(solution_html)[0]\n",
    "    solution_csv = solution_df.to_csv(index=False)\n",
    "    response = make_response()\n",
    "    response.data = solution_csv\n",
    "    response.headers['Content-Type'] = 'text/csv'\n",
    "    response.headers['Content-Disposition'] = 'attachment; filename=solution.csv'\n",
    "    return response\n",
    "```"
   ]
  },
  {
   "cell_type": "markdown",
   "id": "5d2cfa3e",
   "metadata": {
    "slideshow": {
     "slide_type": "subslide"
    }
   },
   "source": [
    "## Web アプリケーションを起動する"
   ]
  },
  {
   "cell_type": "markdown",
   "id": "b6833285",
   "metadata": {
    "slideshow": {
     "slide_type": "fragment"
    }
   },
   "source": [
    "ターミナル上で以下コマンドを実行する"
   ]
  },
  {
   "cell_type": "markdown",
   "id": "07a71f96",
   "metadata": {
    "slideshow": {
     "slide_type": "subslide"
    }
   },
   "source": [
    "```shell\n",
    "export FLASK_DEBUG=TRUE\n",
    "export FLASK_APP=application:app\n",
    "flask run\n",
    "```"
   ]
  },
  {
   "cell_type": "markdown",
   "id": "64c699d9",
   "metadata": {
    "slideshow": {
     "slide_type": "subslide"
    }
   },
   "source": [
    " \\* Running on http://127.0.0.1:5000  \n",
    " と表示されるはずなので、Running on 以下のアドレスに Web ブラウザから飛んでみる。  \n",
    " --> 完成！"
   ]
  }
 ],
 "metadata": {
  "celltoolbar": "Slideshow",
  "kernelspec": {
   "display_name": "Python 3 (ipykernel)",
   "language": "python",
   "name": "python3"
  },
  "language_info": {
   "codemirror_mode": {
    "name": "ipython",
    "version": 3
   },
   "file_extension": ".py",
   "mimetype": "text/x-python",
   "name": "python",
   "nbconvert_exporter": "python",
   "pygments_lexer": "ipython3",
   "version": "3.8.15"
  },
  "toc": {
   "base_numbering": 1,
   "nav_menu": {},
   "number_sections": true,
   "sideBar": true,
   "skip_h1_title": false,
   "title_cell": "Table of Contents",
   "title_sidebar": "Contents",
   "toc_cell": false,
   "toc_position": {
    "height": "calc(100% - 180px)",
    "left": "10px",
    "top": "150px",
    "width": "223px"
   },
   "toc_section_display": true,
   "toc_window_display": false
  },
  "varInspector": {
   "cols": {
    "lenName": 16,
    "lenType": 16,
    "lenVar": 40
   },
   "kernels_config": {
    "python": {
     "delete_cmd_postfix": "",
     "delete_cmd_prefix": "del ",
     "library": "var_list.py",
     "varRefreshCmd": "print(var_dic_list())"
    },
    "r": {
     "delete_cmd_postfix": ") ",
     "delete_cmd_prefix": "rm(",
     "library": "var_list.r",
     "varRefreshCmd": "cat(var_dic_list()) "
    }
   },
   "types_to_exclude": [
    "module",
    "function",
    "builtin_function_or_method",
    "instance",
    "_Feature"
   ],
   "window_display": false
  },
  "vscode": {
   "interpreter": {
    "hash": "e17727612202c1356635c742c8b4a402dbb207f2e08b6a96bb48dfe9e7dde361"
   }
  }
 },
 "nbformat": 4,
 "nbformat_minor": 5
}
